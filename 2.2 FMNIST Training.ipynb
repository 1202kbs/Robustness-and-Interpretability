{
 "cells": [
  {
   "cell_type": "code",
   "execution_count": null,
   "metadata": {},
   "outputs": [],
   "source": [
    "import os\n",
    "\n",
    "import matplotlib.pyplot as plt\n",
    "import numpy as np\n",
    "import tensorflow as tf\n",
    "from tensorflow.examples.tutorials.mnist import input_data\n",
    "\n",
    "from attacks import GM\n",
    "from classifiers import MNIST_CNN\n",
    "from trainers import TrainerForVAEGAN\n",
    "from utils import params_maker\n",
    "\n",
    "os.environ[\"CUDA_VISIBLE_DEVICES\"] = \"2\"\n",
    "\n",
    "fmnist = input_data.read_data_sets(\"FMNIST_data/\")\n",
    "\n",
    "data_train = (np.reshape(fmnist.train.images, [-1, 28, 28, 1]) * 2.0 - 1, fmnist.train.labels)\n",
    "data_test = (np.reshape(fmnist.test.images, [-1, 28, 28, 1]) * 2.0 - 1, fmnist.test.labels)\n"
   ]
  },
  {
   "cell_type": "code",
   "execution_count": null,
   "metadata": {},
   "outputs": [],
   "source": [
    "use_batchnorm = False\n",
    "droprate = None\n",
    "snbeta = None\n",
    "l2rate = None\n",
    "\n",
    "attack = GM\n",
    "\n",
    "attack_paramss = params_maker(['eps', 'step_size', 'n_steps', 'norm', 'loss_type'],\n",
    "                              [[0.3], [0.02], [40], ['inf'], ['xent', 'cw']])\n",
    "\n",
    "for attack_params in attack_paramss:\n",
    "\n",
    "    logdir = 'tf_logs/exp2/'\n",
    "    if use_batchnorm: logdir += 'batchnorm/'\n",
    "    if droprate: logdir += 'dropout/{}/'.format(droprate)\n",
    "    if snbeta: logdir += 'sn/{}/'.format(snbeta)\n",
    "    if l2rate: logdir += 'l2/{}/'.format(l2rate)\n",
    "\n",
    "    if attack: logdir += 'adv/{}/{}/'.format(attack.__name__, '_'.join([str(v) for k, v in attack_params]))\n",
    "\n",
    "    if logdir.split('/')[-2] == 'exp2': logdir += 'standard/'\n",
    "\n",
    "    print(logdir)\n",
    "\n",
    "    tf.reset_default_graph()\n",
    "\n",
    "    DNN = MNIST_CNN(logdir, tf.nn.relu, use_batchnorm, droprate, snbeta, l2rate, attack, dict(attack_params))\n",
    "\n",
    "    sess = tf.InteractiveSession()\n",
    "    sess.run(tf.global_variables_initializer())\n",
    "\n",
    "    trainer = TrainerForVAEGAN(sess, DNN, data_train)\n",
    "    trainer.train(n_epochs=5, p_epochs=1)\n",
    "\n",
    "    sess.close()\n",
    "\n",
    "    # Test Accuracy\n",
    "    tf.reset_default_graph()\n",
    "\n",
    "    sess = tf.InteractiveSession()\n",
    "\n",
    "    DNN = MNIST_CNN(logdir, tf.nn.relu)\n",
    "    DNN.load(sess)\n",
    "\n",
    "    print('Test Accuracy : {:.5f}'.format(DNN.evaluate(sess, data_test)))\n",
    "\n",
    "    sess.close()\n"
   ]
  },
  {
   "cell_type": "code",
   "execution_count": null,
   "metadata": {},
   "outputs": [],
   "source": []
  }
 ],
 "metadata": {
  "kernelspec": {
   "display_name": "Python 3",
   "language": "python",
   "name": "python3"
  },
  "language_info": {
   "codemirror_mode": {
    "name": "ipython",
    "version": 3
   },
   "file_extension": ".py",
   "mimetype": "text/x-python",
   "name": "python",
   "nbconvert_exporter": "python",
   "pygments_lexer": "ipython3",
   "version": "3.5.2"
  },
  "latex_envs": {
   "LaTeX_envs_menu_present": true,
   "autoclose": false,
   "autocomplete": true,
   "bibliofile": "biblio.bib",
   "cite_by": "apalike",
   "current_citInitial": 1.0,
   "eqLabelWithNumbers": true,
   "eqNumInitial": 1.0,
   "hotkeys": {
    "equation": "Ctrl-E",
    "itemize": "Ctrl-I"
   },
   "labels_anchors": false,
   "latex_user_defs": false,
   "report_style_numbering": false,
   "user_envs_cfg": false
  }
 },
 "nbformat": 4,
 "nbformat_minor": 2
}
