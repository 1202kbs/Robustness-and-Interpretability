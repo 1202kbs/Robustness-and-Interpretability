{
 "cells": [
  {
   "cell_type": "code",
   "execution_count": 1,
   "metadata": {},
   "outputs": [
    {
     "name": "stderr",
     "output_type": "stream",
     "text": [
      "/usr/local/lib/python3.5/dist-packages/h5py/__init__.py:36: FutureWarning: Conversion of the second argument of issubdtype from `float` to `np.floating` is deprecated. In future, it will be treated as `np.float64 == np.dtype(float).type`.\n",
      "  from ._conv import register_converters as _register_converters\n"
     ]
    },
    {
     "name": "stdout",
     "output_type": "stream",
     "text": [
      "Extracting FMNIST_data/train-images-idx3-ubyte.gz\n",
      "Extracting FMNIST_data/train-labels-idx1-ubyte.gz\n",
      "Extracting FMNIST_data/t10k-images-idx3-ubyte.gz\n",
      "Extracting FMNIST_data/t10k-labels-idx1-ubyte.gz\n"
     ]
    }
   ],
   "source": [
    "import os, itertools\n",
    "\n",
    "from tensorflow.examples.tutorials.mnist import input_data\n",
    "from tqdm import tqdm\n",
    "\n",
    "import matplotlib.pyplot as plt\n",
    "import tensorflow as tf\n",
    "import numpy as np\n",
    "\n",
    "from classifiers import MNIST_CNN\n",
    "from trainers import Trainer\n",
    "from attacks import GM\n",
    "\n",
    "os.environ[\"CUDA_VISIBLE_DEVICES\"]=\"2\"\n",
    "\n",
    "fmnist = input_data.read_data_sets(\"FMNIST_data/\")\n",
    "\n",
    "data_train = (np.reshape(fmnist.train.images, [-1, 28, 28, 1]) * 2.0 - 1, fmnist.train.labels)\n",
    "data_test = (np.reshape(fmnist.test.images, [-1, 28, 28, 1]) * 2.0 - 1, fmnist.test.labels)"
   ]
  },
  {
   "cell_type": "code",
   "execution_count": 2,
   "metadata": {},
   "outputs": [],
   "source": [
    "def params_maker(param_names, param_values):\n",
    "    \n",
    "    product = itertools.product(*param_values)\n",
    "    params = [list(zip(param_names, p)) for p in product]\n",
    "    \n",
    "    return params"
   ]
  },
  {
   "cell_type": "code",
   "execution_count": 3,
   "metadata": {},
   "outputs": [
    {
     "name": "stdout",
     "output_type": "stream",
     "text": [
      "tf_logs/exp3/adv/GM/0.3_0.02_40_inf_xent/\n",
      "Epoch : 1   | Loss : 1.08893 | Accuracy : 0.56560 | Test Accuracy : nan | Adv Accuracy : nan\n",
      "Epoch : 2   | Loss : 0.83661 | Accuracy : 0.66189 | Test Accuracy : nan | Adv Accuracy : nan\n",
      "Epoch : 3   | Loss : 0.75822 | Accuracy : 0.69435 | Test Accuracy : nan | Adv Accuracy : nan\n",
      "Epoch : 4   | Loss : 0.71450 | Accuracy : 0.71158 | Test Accuracy : nan | Adv Accuracy : nan\n",
      "Epoch : 5   | Loss : 0.67876 | Accuracy : 0.72593 | Test Accuracy : nan | Adv Accuracy : nan\n",
      "INFO:tensorflow:Restoring parameters from tf_logs/exp3/adv/GM/0.3_0.02_40_inf_xent/model\n",
      "Test Accuracy : 0.84370\n",
      "tf_logs/exp3/adv/GM/0.3_0.02_40_inf_cw/\n",
      "Epoch : 1   | Loss : 1.02658 | Accuracy : 0.55504 | Test Accuracy : nan | Adv Accuracy : nan\n",
      "Epoch : 2   | Loss : 0.79704 | Accuracy : 0.65602 | Test Accuracy : nan | Adv Accuracy : nan\n",
      "Epoch : 3   | Loss : 0.71014 | Accuracy : 0.69765 | Test Accuracy : nan | Adv Accuracy : nan\n",
      "Epoch : 4   | Loss : 0.66816 | Accuracy : 0.71780 | Test Accuracy : nan | Adv Accuracy : nan\n",
      "Epoch : 5   | Loss : 0.63798 | Accuracy : 0.73127 | Test Accuracy : nan | Adv Accuracy : nan\n",
      "INFO:tensorflow:Restoring parameters from tf_logs/exp3/adv/GM/0.3_0.02_40_inf_cw/model\n",
      "Test Accuracy : 0.83950\n"
     ]
    }
   ],
   "source": [
    "use_batchnorm = False\n",
    "droprate = None\n",
    "dbrate = None\n",
    "rmrate = None\n",
    "snbeta = None\n",
    "l2rate = None\n",
    "gprate = None\n",
    "orrate = None\n",
    "lprate = None\n",
    "\n",
    "attack = GM\n",
    "\n",
    "attack_paramss = params_maker(['eps', 'step_size', 'n_steps', 'norm', 'loss_type'], \\\n",
    "                              [[0.3], [0.02], [40], ['inf'], ['xent', 'cw']])\n",
    "\n",
    "for attack_params in attack_paramss:\n",
    "\n",
    "    logdir = 'tf_logs/exp2/'\n",
    "    if use_batchnorm : logdir += 'batchnorm/'\n",
    "    if droprate : logdir += 'dropout/{}/'.format(droprate)\n",
    "    if dbrate : logdir += 'db/{}/'.format(dbrate)\n",
    "    if rmrate : logdir += 'rm/{}/'.format(rmrate)\n",
    "    if snbeta : logdir += 'sn/{}/'.format(snbeta)\n",
    "    if l2rate : logdir += 'l2/{}/'.format(l2rate)\n",
    "    if gprate : logdir += 'gp/{}/'.format(gprate)\n",
    "    if orrate : logdir += 'or/{}/'.format(orrate)\n",
    "    if lprate : logdir += 'lp/{}/'.format(lprate)\n",
    "\n",
    "    if attack : logdir += 'adv/{}/{}/'.format(attack.__name__, '_'.join([str(v) for k, v in attack_params]))\n",
    "\n",
    "    if logdir.split('/')[-2] == 'exp2' : logdir += 'standard/'\n",
    "\n",
    "    print(logdir)\n",
    "\n",
    "    tf.reset_default_graph()\n",
    "\n",
    "    DNN = MNIST_CNN(logdir, tf.nn.relu, use_batchnorm, droprate, dbrate, rmrate, snbeta, l2rate, gprate, orrate, lprate, attack, dict(attack_params))\n",
    "\n",
    "    sess = tf.InteractiveSession()\n",
    "    sess.run(tf.global_variables_initializer())\n",
    "\n",
    "    trainer = Trainer(sess, DNN, data_train)\n",
    "    trainer.train(n_epochs=5, p_epochs=1)\n",
    "\n",
    "    sess.close()\n",
    "    \n",
    "    # Test Accuracy\n",
    "    tf.reset_default_graph()\n",
    "    \n",
    "    sess = tf.InteractiveSession()\n",
    "    \n",
    "    DNN = MNIST_CNN(logdir, tf.nn.relu)\n",
    "    DNN.load(sess)\n",
    "    \n",
    "    print('Test Accuracy : {:.5f}'.format(DNN.evaluate(sess, data_test)))\n",
    "    \n",
    "    sess.close()"
   ]
  },
  {
   "cell_type": "code",
   "execution_count": null,
   "metadata": {},
   "outputs": [],
   "source": []
  }
 ],
 "metadata": {
  "kernelspec": {
   "display_name": "Python 3",
   "language": "python",
   "name": "python3"
  },
  "language_info": {
   "codemirror_mode": {
    "name": "ipython",
    "version": 3
   },
   "file_extension": ".py",
   "mimetype": "text/x-python",
   "name": "python",
   "nbconvert_exporter": "python",
   "pygments_lexer": "ipython3",
   "version": "3.5.2"
  },
  "latex_envs": {
   "LaTeX_envs_menu_present": true,
   "autoclose": false,
   "autocomplete": true,
   "bibliofile": "biblio.bib",
   "cite_by": "apalike",
   "current_citInitial": 1,
   "eqLabelWithNumbers": true,
   "eqNumInitial": 1,
   "hotkeys": {
    "equation": "Ctrl-E",
    "itemize": "Ctrl-I"
   },
   "labels_anchors": false,
   "latex_user_defs": false,
   "report_style_numbering": false,
   "user_envs_cfg": false
  }
 },
 "nbformat": 4,
 "nbformat_minor": 2
}
