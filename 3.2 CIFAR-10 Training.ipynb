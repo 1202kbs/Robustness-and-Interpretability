{
 "cells": [
  {
   "cell_type": "code",
   "execution_count": null,
   "metadata": {},
   "outputs": [],
   "source": [
    "import os\n",
    "\n",
    "import matplotlib.pyplot as plt\n",
    "import numpy as np\n",
    "import tensorflow as tf\n",
    "from tqdm import tqdm\n",
    "\n",
    "from attacks import GM\n",
    "from classifiers import CIFAR_CNN\n",
    "from trainers import Trainer\n",
    "from utils import params_maker\n",
    "from utils import unpickle\n",
    "\n",
    "os.environ[\"CUDA_VISIBLE_DEVICES\"] = \"2\"\n",
    "\n",
    "datadir = './CIFAR10_data/'\n",
    "batches = [datadir + batch for batch in os.listdir(datadir)]\n"
   ]
  },
  {
   "cell_type": "code",
   "execution_count": null,
   "metadata": {},
   "outputs": [],
   "source": [
    "for i in tqdm(range(5)):\n",
    "    batch = unpickle(batches[i])\n",
    "\n",
    "    if i == 0:\n",
    "        data = batch[b'data'].astype(np.float32)\n",
    "        cifar = np.transpose(np.reshape(data, [-1, 3, 32, 32]), [0, 2, 3, 1])\n",
    "        labels = batch[b'labels']\n",
    "    else:\n",
    "        data = batch[b'data'].astype(np.float32)\n",
    "        cifar = np.concatenate((cifar, np.transpose(np.reshape(data, [-1, 3, 32, 32]), [0, 2, 3, 1])), axis=0)\n",
    "        labels = np.concatenate((labels, batch[b'labels']), axis=0)\n",
    "\n",
    "scaled_cifar = cifar / 127.5 - 1.0\n",
    "\n",
    "test_batch = unpickle(batches[5])\n",
    "cifar_test = np.transpose(np.reshape(test_batch[b'data'], [-1, 3, 32, 32]), [0, 2, 3, 1])\n",
    "scaled_cifar_test = cifar_test / 127.5 - 1.0\n",
    "labels_test = np.array(test_batch[b'labels'])\n",
    "\n",
    "data_train = (scaled_cifar, labels)\n",
    "data_test = (scaled_cifar_test, labels_test)\n"
   ]
  },
  {
   "cell_type": "code",
   "execution_count": null,
   "metadata": {
    "scrolled": true
   },
   "outputs": [],
   "source": [
    "use_batchnorm = False\n",
    "droprate = None\n",
    "snbeta = None\n",
    "l2rate = None\n",
    "\n",
    "attack = GM\n",
    "\n",
    "attack_paramss = params_maker(['eps', 'step_size', 'n_steps', 'norm', 'loss_type'], \\\n",
    "                              [[0.005], [0.02], [40], ['inf'], ['xent', 'cw']])\n",
    "\n",
    "for attack_params in attack_paramss:\n",
    "\n",
    "    logdir = 'tf_logs/exp3/'\n",
    "    if use_batchnorm: logdir += 'batchnorm/'\n",
    "    if droprate: logdir += 'dropout/{}/'.format(droprate)\n",
    "    if snbeta: logdir += 'sn/{}/'.format(snbeta)\n",
    "    if l2rate: logdir += 'l2/{}/'.format(l2rate)\n",
    "\n",
    "    if attack: logdir += 'adv/{}/{}/'.format(attack.__name__, '_'.join([str(v) for k, v in attack_params]))\n",
    "\n",
    "    if logdir.split('/')[-2] == 'exp3': logdir += 'standard/'\n",
    "\n",
    "    print(logdir)\n",
    "\n",
    "    tf.reset_default_graph()\n",
    "\n",
    "    DNN = CIFAR_CNN(logdir, tf.nn.relu, use_batchnorm, droprate, snbeta, l2rate, attack, dict(attack_params))\n",
    "\n",
    "    sess = tf.InteractiveSession()\n",
    "    sess.run(tf.global_variables_initializer())\n",
    "\n",
    "    trainer = Trainer(sess, DNN, data_train)\n",
    "    trainer.train(n_epochs=20, p_epochs=5)\n",
    "\n",
    "    sess.close()\n",
    "\n",
    "    # Test Accuracy\n",
    "    tf.reset_default_graph()\n",
    "\n",
    "    sess = tf.InteractiveSession()\n",
    "\n",
    "    DNN = CIFAR_CNN(logdir, tf.nn.relu)\n",
    "    DNN.load(sess)\n",
    "\n",
    "    print('Test Accuracy : {:.5f}'.format(DNN.evaluate(sess, data_test)))\n",
    "\n",
    "    sess.close()\n"
   ]
  },
  {
   "cell_type": "code",
   "execution_count": null,
   "metadata": {},
   "outputs": [],
   "source": []
  }
 ],
 "metadata": {
  "kernelspec": {
   "display_name": "Python 3",
   "language": "python",
   "name": "python3"
  },
  "language_info": {
   "codemirror_mode": {
    "name": "ipython",
    "version": 3
   },
   "file_extension": ".py",
   "mimetype": "text/x-python",
   "name": "python",
   "nbconvert_exporter": "python",
   "pygments_lexer": "ipython3",
   "version": "3.5.2"
  }
 },
 "nbformat": 4,
 "nbformat_minor": 2
}
