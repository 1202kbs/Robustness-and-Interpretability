{
 "cells": [
  {
   "cell_type": "code",
   "execution_count": null,
   "metadata": {},
   "outputs": [],
   "source": [
    "import os\n",
    "\n",
    "if not os.path.exists('CIFAR10_data'):\n",
    "    \n",
    "    !wget https://www.cs.toronto.edu/~kriz/cifar-10-python.tar.gz\n",
    "    !mkdir CIFAR10_data\n",
    "    !tar -xf cifar-10-python.tar.gz -C CIFAR10_data\n",
    "\n",
    "import matplotlib.pyplot as plt\n",
    "import numpy as np\n",
    "import tensorflow as tf\n",
    "from tqdm import tqdm\n",
    "\n",
    "from attacks import GM\n",
    "from classifiers import CIFAR_CNN\n",
    "from trainers import TrainerForClassifier\n",
    "from utils import params_maker\n",
    "from utils import unpickle\n",
    "\n",
    "datadir = 'CIFAR10_data/cifar-10-batches-py/'\n",
    "batches_train = sorted([datadir + batch for batch in os.listdir(datadir) if 'data_batch' in batch], key=lambda x: int(x[-1]))\n",
    "batch_test = [datadir + 'test_batch']\n",
    "batches = batches_train + batch_test\n"
   ]
  },
  {
   "cell_type": "code",
   "execution_count": null,
   "metadata": {},
   "outputs": [],
   "source": [
    "batch = unpickle(batches[0])\n",
    "data = batch[b'data'].astype(np.float32)\n",
    "cifar = np.transpose(np.reshape(data, [-1, 3, 32, 32]), [0, 2, 3, 1])\n",
    "labels = batch[b'labels']\n",
    "\n",
    "for i in tqdm(range(1, 5)):\n",
    "    batch = unpickle(batches[i])\n",
    "\n",
    "    data = batch[b'data'].astype(np.float32)\n",
    "    cifar = np.concatenate((cifar, np.transpose(np.reshape(data, [-1, 3, 32, 32]), [0, 2, 3, 1])), axis=0)\n",
    "    labels = np.concatenate((labels, batch[b'labels']), axis=0)\n",
    "\n",
    "scaled_cifar = cifar / 127.5 - 1.0\n",
    "\n",
    "test_batch = unpickle(batches[5])\n",
    "cifar_test = np.transpose(np.reshape(test_batch[b'data'], [-1, 3, 32, 32]), [0, 2, 3, 1])\n",
    "scaled_cifar_test = cifar_test / 127.5 - 1.0\n",
    "labels_test = np.array(test_batch[b'labels'])\n",
    "\n",
    "data_train = (scaled_cifar, labels)\n",
    "data_test = (scaled_cifar_test, labels_test)\n"
   ]
  },
  {
   "cell_type": "markdown",
   "metadata": {},
   "source": [
    "## Standard Training"
   ]
  },
  {
   "cell_type": "code",
   "execution_count": null,
   "metadata": {},
   "outputs": [],
   "source": [
    "logdir = 'tf_logs/exp3/standard/'\n",
    "\n",
    "print(logdir)\n",
    "\n",
    "tf.reset_default_graph()\n",
    "\n",
    "DNN = CIFAR_CNN(logdir, activation=tf.nn.relu)\n",
    "\n",
    "sess = tf.InteractiveSession()\n",
    "sess.run(tf.global_variables_initializer())\n",
    "\n",
    "trainer = TrainerForClassifier(sess, DNN, data_train)\n",
    "trainer.train(n_epochs=20, p_epochs=5)\n",
    "\n",
    "sess.close()\n"
   ]
  },
  {
   "cell_type": "markdown",
   "metadata": {},
   "source": [
    "## Adversarial Training"
   ]
  },
  {
   "cell_type": "code",
   "execution_count": null,
   "metadata": {
    "scrolled": true
   },
   "outputs": [],
   "source": [
    "attack_paramss = params_maker(['eps', 'step_size', 'n_steps', 'norm', 'loss_type'],\n",
    "                              [[0.1, 0.4, 1.6], [2], [40], ['2'], ['xent', 'cw']])\n",
    "\n",
    "for attack_params in attack_paramss:\n",
    "\n",
    "    logdir = 'tf_logs/exp3/adv/{}/'.format('_'.join([str(v) for k, v in attack_params]))\n",
    "\n",
    "    print(logdir)\n",
    "\n",
    "    tf.reset_default_graph()\n",
    "\n",
    "    DNN = CIFAR_CNN(logdir, activation=tf.nn.relu, attack=GM, attack_params=dict(attack_params))\n",
    "\n",
    "    sess = tf.InteractiveSession()\n",
    "    sess.run(tf.global_variables_initializer())\n",
    "\n",
    "    trainer = TrainerForClassifier(sess, DNN, data_train)\n",
    "    trainer.train(n_epochs=20, p_epochs=5)\n",
    "\n",
    "    sess.close()\n"
   ]
  },
  {
   "cell_type": "code",
   "execution_count": null,
   "metadata": {},
   "outputs": [],
   "source": [
    "attack_paramss = params_maker(['eps', 'step_size', 'n_steps', 'norm', 'loss_type'],\n",
    "                              [[0.05, 0.1, 0.2], [0.02], [40], ['inf'], ['xent', 'cw']])\n",
    "\n",
    "for attack_params in attack_paramss:\n",
    "\n",
    "    logdir = 'tf_logs/exp3/adv/{}/'.format('_'.join([str(v) for k, v in attack_params]))\n",
    "\n",
    "    print(logdir)\n",
    "\n",
    "    tf.reset_default_graph()\n",
    "\n",
    "    DNN = CIFAR_CNN(logdir, activation=tf.nn.relu, attack=GM, attack_params=dict(attack_params))\n",
    "\n",
    "    sess = tf.InteractiveSession()\n",
    "    sess.run(tf.global_variables_initializer())\n",
    "\n",
    "    trainer = TrainerForClassifier(sess, DNN, data_train)\n",
    "    trainer.train(n_epochs=20, p_epochs=5)\n",
    "\n",
    "    sess.close()\n"
   ]
  }
 ],
 "metadata": {
  "kernelspec": {
   "display_name": "Python 3",
   "language": "python",
   "name": "python3"
  },
  "language_info": {
   "codemirror_mode": {
    "name": "ipython",
    "version": 3
   },
   "file_extension": ".py",
   "mimetype": "text/x-python",
   "name": "python",
   "nbconvert_exporter": "python",
   "pygments_lexer": "ipython3",
   "version": "3.6.8"
  },
  "latex_envs": {
   "LaTeX_envs_menu_present": true,
   "autoclose": false,
   "autocomplete": true,
   "bibliofile": "biblio.bib",
   "cite_by": "apalike",
   "current_citInitial": 1,
   "eqLabelWithNumbers": true,
   "eqNumInitial": 1,
   "hotkeys": {
    "equation": "Ctrl-E",
    "itemize": "Ctrl-I"
   },
   "labels_anchors": false,
   "latex_user_defs": false,
   "report_style_numbering": false,
   "user_envs_cfg": false
  }
 },
 "nbformat": 4,
 "nbformat_minor": 2
}
