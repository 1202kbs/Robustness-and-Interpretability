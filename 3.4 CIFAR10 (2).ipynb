{
 "cells": [
  {
   "cell_type": "code",
   "execution_count": 1,
   "metadata": {},
   "outputs": [
    {
     "name": "stderr",
     "output_type": "stream",
     "text": [
      "/usr/local/lib/python3.5/dist-packages/h5py/__init__.py:36: FutureWarning: Conversion of the second argument of issubdtype from `float` to `np.floating` is deprecated. In future, it will be treated as `np.float64 == np.dtype(float).type`.\n",
      "  from ._conv import register_converters as _register_converters\n",
      "100%|██████████| 5/5 [00:02<00:00,  1.86it/s]\n"
     ]
    }
   ],
   "source": [
    "import os, math, collections, itertools\n",
    "\n",
    "from tqdm import tqdm\n",
    "\n",
    "import matplotlib.pyplot as plt\n",
    "import tensorflow as tf\n",
    "import skimage.measure\n",
    "import numpy as np\n",
    "\n",
    "from utils import save, unpickle, pixel_range, preprocess, batch_run, scale\n",
    "from deepexplain.tensorflow import DeepExplain\n",
    "from classifiers import CIFAR_CNN\n",
    "from trainers import Trainer\n",
    "from attacks import GM\n",
    "\n",
    "os.environ[\"CUDA_VISIBLE_DEVICES\"]=\"3\"\n",
    "\n",
    "datadir = './CIFAR10_data/'\n",
    "batches = [datadir + batch for batch in os.listdir(datadir)]\n",
    "\n",
    "for i in tqdm(range(5)):\n",
    "    batch = unpickle(batches[i])\n",
    "\n",
    "    if i == 0:\n",
    "        data = batch[b'data'].astype(np.float32)\n",
    "        cifar = np.transpose(np.reshape(data, [-1,3,32,32]), [0,2,3,1])\n",
    "        labels = batch[b'labels']\n",
    "    else:\n",
    "        data = batch[b'data'].astype(np.float32)\n",
    "        cifar = np.concatenate((cifar, np.transpose(np.reshape(data, [-1,3,32,32]), [0,2,3,1])), axis=0)\n",
    "        labels = np.concatenate((labels, batch[b'labels']), axis=0)\n",
    "\n",
    "scaled_cifar = cifar / 127.5 - 1.0\n",
    "\n",
    "test_batch = unpickle(batches[5])\n",
    "cifar_test = np.transpose(np.reshape(test_batch[b'data'], [-1,3,32,32]), [0,2,3,1])\n",
    "scaled_cifar_test = cifar_test / 127.5 - 1.0\n",
    "labels_test = np.array(test_batch[b'labels'])\n",
    "\n",
    "data_train = (scaled_cifar, labels)\n",
    "data_test = (scaled_cifar_test, labels_test)\n",
    "\n",
    "cifar_mean = np.mean(cifar, axis=(0,1,2))"
   ]
  },
  {
   "cell_type": "markdown",
   "metadata": {},
   "source": [
    "## Accuracy"
   ]
  },
  {
   "cell_type": "code",
   "execution_count": null,
   "metadata": {},
   "outputs": [],
   "source": [
    "def eval_accuracy(logdir):\n",
    "    \n",
    "    tf.reset_default_graph()\n",
    "    \n",
    "    sess = tf.InteractiveSession()\n",
    "    \n",
    "    DNN = CIFAR_CNN(logdir, tf.nn.relu)\n",
    "    DNN.load(sess)\n",
    "    \n",
    "    gm = GM(DNN, eps=0.4, step_size=2, n_steps=40, norm='2', loss_type='xent')\n",
    "    \n",
    "    train_acc = DNN.evaluate(sess, data_train)\n",
    "    test_acc = DNN.evaluate(sess, data_test)\n",
    "    adv_acc = DNN.evaluate(sess, (gm.attack(sess, data_test, batch_size=500), data_test[1]))\n",
    "    \n",
    "    sess.close()\n",
    "    \n",
    "    res = collections.OrderedDict([('Train', train_acc), ('Test', test_acc), ('Adv', adv_acc)])\n",
    "    \n",
    "    savefile = logdir.replace('tf_logs', 'results/accuracy')[:-1] + '.pickle'\n",
    "    savedir = '/'.join(savefile.split('/')[:-1])\n",
    "    \n",
    "    if not os.path.exists(savedir):\n",
    "        \n",
    "        os.makedirs(savedir)\n",
    "    \n",
    "    save(res, savefile)"
   ]
  },
  {
   "cell_type": "markdown",
   "metadata": {},
   "source": [
    "## ROAR KAR"
   ]
  },
  {
   "cell_type": "code",
   "execution_count": 3,
   "metadata": {},
   "outputs": [],
   "source": [
    "def nonzero_min(x):\n",
    "    \n",
    "    return np.min(np.abs(x[x != 0]))\n",
    "\n",
    "def Canny(images):\n",
    "    \n",
    "    res = []\n",
    "    \n",
    "    for img in images:\n",
    "        \n",
    "        img_bw = cv2.cvtColor(img, cv2.COLOR_BGR2GRAY).astype(np.uint8)\n",
    "        edges = cv2.Canny(img_bw, 100, 200).reshape(1, 32, 32) + np.random.normal(loc=0.0, scale=0.1, size=[1, 32, 32])\n",
    "        res.append(edges)\n",
    "    \n",
    "    return np.concatenate(res, axis=0)\n",
    "\n",
    "\n",
    "def random_remove(images, percentile, keep=False):\n",
    "    \n",
    "    images = np.copy(images)\n",
    "    \n",
    "    mask = np.random.binomial(1, (100 - percentile) / 100, size=images.shape[:-1])\n",
    "    \n",
    "    if keep:\n",
    "        images[mask == 1] = cifar_mean\n",
    "    else:\n",
    "        images[mask == 0] = cifar_mean\n",
    "    \n",
    "    return images\n",
    "\n",
    "\n",
    "def remove(images, attributions, percentile, keep=False, random=False):\n",
    "    '''\n",
    "    images       : tensor of shape [N,H,W,C]\n",
    "    attributions : tensor of shape [N,H,W]\n",
    "    percentile   : scalar between 0 and 100, inclusive\n",
    "    keep         : if true keep q percent; otherwise remove q percent\n",
    "    '''\n",
    "    \n",
    "    images = np.copy(images)\n",
    "    \n",
    "    thresholds = np.percentile(attributions, 100 - percentile, axis=(1,2), keepdims=True)\n",
    "    \n",
    "    if keep:\n",
    "        images[attributions < thresholds] = cifar_mean\n",
    "    else:\n",
    "        images[attributions > thresholds] = cifar_mean\n",
    "    \n",
    "    return images\n",
    "\n",
    "\n",
    "def occlude_dataset(DNN, de, attribution, loss, percentiles, test=False, keep=False, random=False, batch_size=1000, savedir='./'):\n",
    "    \n",
    "    if test:\n",
    "        Xs = cifar_test\n",
    "        ys = labels_test\n",
    "    else:\n",
    "        Xs = cifar\n",
    "        ys = labels\n",
    "    \n",
    "    total_batch = math.ceil(len(Xs) / batch_size)\n",
    "    \n",
    "    if not random:\n",
    "    \n",
    "        hmaps = []\n",
    "\n",
    "        for i in tqdm(range(total_batch)):\n",
    "\n",
    "            batch_xs = Xs[i*batch_size:(i+1)*batch_size]\n",
    "            batch_xs_scaled = scale(batch_xs)\n",
    "\n",
    "            if 'edge' in attribution:\n",
    "                attrs = Canny(batch_xs)\n",
    "            else:\n",
    "                attrs = preprocess(de.explain(attribution, loss, DNN.X, batch_xs_scaled), 0, 100, use_abs=True)\n",
    "            \n",
    "            # Add small random noise so np.percentile works correctly\n",
    "            attrs += np.random.uniform(low=0.0, high=1e-8, size=attrs.shape)\n",
    "            \n",
    "            hmaps.append(attrs)\n",
    "        \n",
    "        hmaps = np.concatenate(hmaps, axis=0)\n",
    "    \n",
    "    for percentile in tqdm(percentiles):\n",
    "        \n",
    "        dataset = []\n",
    "        \n",
    "        for i in range(total_batch):\n",
    "            \n",
    "            batch_xs, batch_ys = Xs[i*batch_size:(i+1)*batch_size], ys[i*batch_size:(i+1)*batch_size]\n",
    "            \n",
    "            if random:\n",
    "                occluded_images = random_remove(batch_xs, percentile, keep)\n",
    "            else:\n",
    "                batch_attrs = hmaps[i * batch_size:(i + 1) * batch_size]\n",
    "                occluded_images = remove(batch_xs, batch_attrs, percentile, keep)\n",
    "            \n",
    "            dataset.append(scale(occluded_images))\n",
    "        \n",
    "        save(np.concatenate(dataset, axis=0), savedir + '{}_{}_{}.pickle'.format('test' if test else 'train', attribution, percentile))\n",
    "\n",
    "\n",
    "def eval_roar_kar(logdir, keep, loss_type='xent', train_only=False):\n",
    "    \n",
    "    def get_savedir():\n",
    "        \n",
    "        savedir = logdir.replace('tf_logs', 'KAR_' + loss_type.upper() if keep else 'ROAR_' + loss_type.upper())\n",
    "        \n",
    "        if not os.path.exists(savedir):\n",
    "            \n",
    "            os.makedirs(savedir)\n",
    "        \n",
    "        return savedir\n",
    "    \n",
    "    percentiles = [10, 30, 50, 70, 90]\n",
    "    \n",
    "    heavy_methods = ['SmoothGrad', 'IntegGrad', 'DeepLIFT']\n",
    "\n",
    "    attribution_methods = [\n",
    "#                            ('Random'           , 'zero'), \n",
    "#                            ('Saliency'         , 'saliency'), \n",
    "#                            ('Guided BP'        , 'guidedbp'), \n",
    "#                            ('SmoothGrad'       , 'smoothgrad'), \n",
    "                           ('Grad * Input'     , 'grad*input'), \n",
    "#                            ('IntegGrad'        , 'intgrad'), \n",
    "#                            ('DeepLIFT'         , 'deeplift')\n",
    "                          ]\n",
    "\n",
    "    attribution_methods = collections.OrderedDict(attribution_methods)\n",
    "    \n",
    "    if not train_only:\n",
    "    \n",
    "        tf.reset_default_graph()\n",
    "\n",
    "        sess = tf.InteractiveSession()\n",
    "\n",
    "        with DeepExplain(session=sess, graph=sess.graph) as de:\n",
    "\n",
    "            DNN = CIFAR_CNN(logdir, activation=tf.nn.relu)\n",
    "            DNN.load(sess)\n",
    "            \n",
    "            if loss_type == 'xent':\n",
    "                loss = tf.nn.softmax_cross_entropy_with_logits_v2(labels=tf.stop_gradient(tf.one_hot(DNN.yi, depth=DNN.n_classes)), logits=DNN.logits)\n",
    "            elif loss_type == 'cw':\n",
    "                label_mask = tf.stop_gradient(tf.one_hot(DNN.yi, depth=DNN.n_classes, on_value=True, off_value=False))\n",
    "                c_logit = tf.boolean_mask(DNN.logits, label_mask)\n",
    "                w_logit = tf.reduce_max(tf.reshape(tf.boolean_mask(DNN.logits, tf.logical_not(label_mask)), shape=[-1,9]), axis=1)\n",
    "                loss = w_logit - c_logit\n",
    "            else:\n",
    "                raise Exception('Unknown loss type')\n",
    "\n",
    "            for k, v in attribution_methods.items():\n",
    "\n",
    "                if k in heavy_methods:\n",
    "                    batch_size = 2500\n",
    "                else:\n",
    "                    batch_size = 2500\n",
    "                \n",
    "                occlude_dataset(DNN, de, v, loss, percentiles, False, keep, k == 'Random', batch_size, get_savedir())\n",
    "                occlude_dataset(DNN, de, v, loss, percentiles, True,  keep, k == 'Random', batch_size, get_savedir())\n",
    "\n",
    "        sess.close()\n",
    "    \n",
    "    ress = collections.OrderedDict([(k, []) for k in attribution_methods.keys()])\n",
    "    \n",
    "    for _ in range(3):\n",
    "        \n",
    "        for k, v in attribution_methods.items():\n",
    "            \n",
    "            res = []\n",
    "\n",
    "            for p in percentiles:\n",
    "                \n",
    "                occdir = get_savedir() + '{}_{}_{}.pickle'.format('{}', v, p)\n",
    "                data_train = (unpickle(occdir.format('train')), labels)\n",
    "                data_test = (unpickle(occdir.format('test')), labels_test)\n",
    "                \n",
    "                tf.reset_default_graph()\n",
    "                \n",
    "                DNN = CIFAR_CNN('tf_logs/exp3/KAR_Loss/', activation=tf.nn.relu)\n",
    "                \n",
    "                sess = tf.InteractiveSession()\n",
    "                sess.run(tf.global_variables_initializer())\n",
    "                \n",
    "                trainer = Trainer(sess, DNN, data_train)\n",
    "                trainer.train(20, p_epochs=30)\n",
    "                \n",
    "                acc = DNN.evaluate(sess, data_test)\n",
    "                \n",
    "                print('{}{} | Accuracy : {:.5f}'.format(k, p, acc))\n",
    "                \n",
    "                res.append(acc)\n",
    "                \n",
    "                sess.close()\n",
    "                \n",
    "            ress[k].append(res)\n",
    "    \n",
    "    res_mean = {k: np.mean(v, axis=0) for k, v in ress.items()}\n",
    "    \n",
    "    savefile = logdir.replace('tf_logs', 'results/{}'.format('kar_' + loss_type if keep else 'roar_' + loss_type))[:-1] + '.pickle'\n",
    "    savedir = '/'.join(savefile.split('/')[:-1])\n",
    "    \n",
    "    print('Saving results at ' + savefile)\n",
    "    \n",
    "    if not os.path.exists(savedir):\n",
    "        \n",
    "        os.makedirs(savedir)\n",
    "    \n",
    "    if not os.path.isfile(savefile):\n",
    "    \n",
    "        save(res_mean, savefile)\n",
    "    \n",
    "    else:\n",
    "        \n",
    "        res_prev = unpickle(savefile)\n",
    "        \n",
    "        for k, v in res_mean.items():\n",
    "        \n",
    "            res_prev[k] = v\n",
    "        \n",
    "        save(res_prev, savefile)"
   ]
  },
  {
   "cell_type": "markdown",
   "metadata": {},
   "source": [
    "## Train"
   ]
  },
  {
   "cell_type": "code",
   "execution_count": 4,
   "metadata": {},
   "outputs": [],
   "source": [
    "def params_maker(param_names, param_values):\n",
    "    \n",
    "    product = itertools.product(*param_values)\n",
    "    params = [list(zip(param_names, p)) for p in product]\n",
    "    \n",
    "    return params\n",
    "\n",
    "def logdir_maker(attack_params):\n",
    "    \n",
    "    return 'tf_logs/exp3/adv/GM/{}/'.format('_'.join([str(v) for k, v in attack_params]))\n",
    "\n",
    "def run(attack_params=None, train_first=True, run_sensitivity=True, run_roar_kar=True, loss_type='xent', keep=False, rk_train_only=False):\n",
    "    \n",
    "    if attack_params:\n",
    "        logdir = logdir_maker(attack_params)\n",
    "    else:\n",
    "        logdir = 'tf_logs/exp3/standard/'\n",
    "    \n",
    "    print(logdir)\n",
    "    \n",
    "    if train_first:\n",
    "    \n",
    "        tf.reset_default_graph()\n",
    "\n",
    "        DNN = CIFAR_CNN(logdir, activation=tf.nn.relu, attack=GM, attack_params=dict(attack_params))\n",
    "\n",
    "        sess = tf.InteractiveSession()\n",
    "        sess.run(tf.global_variables_initializer())\n",
    "\n",
    "        trainer = Trainer(sess, DNN, data_train)\n",
    "        trainer.train(n_epochs=20, p_epochs=5)\n",
    "\n",
    "        sess.close()\n",
    "        \n",
    "        eval_accuracy(logdir)\n",
    "    \n",
    "    if run_roar_kar: eval_roar_kar(logdir, keep, loss_type, rk_train_only)"
   ]
  },
  {
   "cell_type": "code",
   "execution_count": 5,
   "metadata": {
    "collapsed": true
   },
   "outputs": [
    {
     "name": "stdout",
     "output_type": "stream",
     "text": [
      "tf_logs/exp4/adv/GM/0.002_0.02_40_inf_xent/\n",
      "INFO:tensorflow:Restoring parameters from tf_logs/exp4/adv/GM/0.002_0.02_40_inf_xent/model\n"
     ]
    },
    {
     "name": "stderr",
     "output_type": "stream",
     "text": [
      "100%|██████████| 20/20 [00:09<00:00,  2.14it/s]\n",
      "100%|██████████| 5/5 [02:35<00:00, 31.00s/it]\n",
      "100%|██████████| 4/4 [00:01<00:00,  2.16it/s]\n",
      "100%|██████████| 5/5 [00:37<00:00,  7.54s/it]\n"
     ]
    },
    {
     "name": "stdout",
     "output_type": "stream",
     "text": [
      "Grad * Input10 | Accuracy : 0.65370\n",
      "Grad * Input30 | Accuracy : 0.60390\n",
      "Grad * Input50 | Accuracy : 0.55920\n",
      "Grad * Input70 | Accuracy : 0.51870\n",
      "Grad * Input90 | Accuracy : 0.43830\n",
      "Grad * Input10 | Accuracy : 0.64670\n",
      "Grad * Input30 | Accuracy : 0.60330\n",
      "Grad * Input50 | Accuracy : 0.55050\n",
      "Grad * Input70 | Accuracy : 0.52160\n",
      "Grad * Input90 | Accuracy : 0.43810\n",
      "Grad * Input10 | Accuracy : 0.64300\n",
      "Grad * Input30 | Accuracy : 0.60660\n",
      "Grad * Input50 | Accuracy : 0.56480\n",
      "Grad * Input70 | Accuracy : 0.50560\n",
      "Grad * Input90 | Accuracy : 0.42970\n",
      "Saving results at results/roar_xent/exp4/adv/GM/0.002_0.02_40_inf_xent.pickle\n",
      "tf_logs/exp4/adv/GM/0.004_0.02_40_inf_xent/\n",
      "INFO:tensorflow:Restoring parameters from tf_logs/exp4/adv/GM/0.004_0.02_40_inf_xent/model\n"
     ]
    },
    {
     "name": "stderr",
     "output_type": "stream",
     "text": [
      "100%|██████████| 20/20 [00:08<00:00,  2.37it/s]\n",
      "100%|██████████| 5/5 [02:04<00:00, 24.94s/it]\n",
      "100%|██████████| 4/4 [00:02<00:00,  1.99it/s]\n",
      "100%|██████████| 5/5 [00:32<00:00,  6.50s/it]\n"
     ]
    },
    {
     "name": "stdout",
     "output_type": "stream",
     "text": [
      "Grad * Input10 | Accuracy : 0.65830\n",
      "Grad * Input30 | Accuracy : 0.59750\n",
      "Grad * Input50 | Accuracy : 0.55900\n",
      "Grad * Input70 | Accuracy : 0.50660\n",
      "Grad * Input90 | Accuracy : 0.42890\n",
      "Grad * Input10 | Accuracy : 0.64580\n",
      "Grad * Input30 | Accuracy : 0.59470\n",
      "Grad * Input50 | Accuracy : 0.56020\n",
      "Grad * Input70 | Accuracy : 0.50610\n",
      "Grad * Input90 | Accuracy : 0.43260\n",
      "Grad * Input10 | Accuracy : 0.64450\n",
      "Grad * Input30 | Accuracy : 0.59070\n",
      "Grad * Input50 | Accuracy : 0.56290\n",
      "Grad * Input70 | Accuracy : 0.49310\n",
      "Grad * Input90 | Accuracy : 0.42690\n",
      "Saving results at results/roar_xent/exp4/adv/GM/0.004_0.02_40_inf_xent.pickle\n",
      "tf_logs/exp4/adv/GM/0.006_0.02_40_inf_xent/\n",
      "INFO:tensorflow:Restoring parameters from tf_logs/exp4/adv/GM/0.006_0.02_40_inf_xent/model\n"
     ]
    },
    {
     "name": "stderr",
     "output_type": "stream",
     "text": [
      "100%|██████████| 20/20 [00:08<00:00,  2.49it/s]\n",
      "100%|██████████| 5/5 [02:01<00:00, 24.36s/it]\n",
      "100%|██████████| 4/4 [00:01<00:00,  2.27it/s]\n",
      "100%|██████████| 5/5 [00:37<00:00,  7.44s/it]\n"
     ]
    },
    {
     "name": "stdout",
     "output_type": "stream",
     "text": [
      "Grad * Input10 | Accuracy : 0.65330\n",
      "Grad * Input30 | Accuracy : 0.60070\n",
      "Grad * Input50 | Accuracy : 0.55150\n",
      "Grad * Input70 | Accuracy : 0.50840\n",
      "Grad * Input90 | Accuracy : 0.41850\n",
      "Grad * Input10 | Accuracy : 0.64850\n",
      "Grad * Input30 | Accuracy : 0.58590\n",
      "Grad * Input50 | Accuracy : 0.55710\n",
      "Grad * Input70 | Accuracy : 0.50020\n",
      "Grad * Input90 | Accuracy : 0.42150\n",
      "Grad * Input10 | Accuracy : 0.65160\n",
      "Grad * Input30 | Accuracy : 0.58030\n",
      "Grad * Input50 | Accuracy : 0.55840\n",
      "Grad * Input70 | Accuracy : 0.51310\n",
      "Grad * Input90 | Accuracy : 0.42900\n",
      "Saving results at results/roar_xent/exp4/adv/GM/0.006_0.02_40_inf_xent.pickle\n",
      "tf_logs/exp4/adv/GM/0.008_0.02_40_inf_xent/\n",
      "INFO:tensorflow:Restoring parameters from tf_logs/exp4/adv/GM/0.008_0.02_40_inf_xent/model\n"
     ]
    },
    {
     "name": "stderr",
     "output_type": "stream",
     "text": [
      "100%|██████████| 20/20 [00:07<00:00,  2.60it/s]\n",
      "100%|██████████| 5/5 [01:21<00:00, 16.31s/it]\n",
      "100%|██████████| 4/4 [00:01<00:00,  2.07it/s]\n",
      "100%|██████████| 5/5 [00:33<00:00,  6.75s/it]\n"
     ]
    },
    {
     "name": "stdout",
     "output_type": "stream",
     "text": [
      "Grad * Input10 | Accuracy : 0.64480\n",
      "Grad * Input30 | Accuracy : 0.59100\n",
      "Grad * Input50 | Accuracy : 0.55150\n",
      "Grad * Input70 | Accuracy : 0.50500\n",
      "Grad * Input90 | Accuracy : 0.42890\n",
      "Grad * Input10 | Accuracy : 0.63870\n",
      "Grad * Input30 | Accuracy : 0.58650\n",
      "Grad * Input50 | Accuracy : 0.54930\n",
      "Grad * Input70 | Accuracy : 0.50130\n",
      "Grad * Input90 | Accuracy : 0.41500\n",
      "Grad * Input10 | Accuracy : 0.65120\n",
      "Grad * Input30 | Accuracy : 0.58500\n",
      "Grad * Input50 | Accuracy : 0.55060\n",
      "Grad * Input70 | Accuracy : 0.51360\n",
      "Grad * Input90 | Accuracy : 0.41510\n",
      "Saving results at results/roar_xent/exp4/adv/GM/0.008_0.02_40_inf_xent.pickle\n",
      "tf_logs/exp4/adv/GM/0.01_0.02_40_inf_xent/\n",
      "INFO:tensorflow:Restoring parameters from tf_logs/exp4/adv/GM/0.01_0.02_40_inf_xent/model\n"
     ]
    },
    {
     "name": "stderr",
     "output_type": "stream",
     "text": [
      "100%|██████████| 20/20 [00:07<00:00,  2.78it/s]\n",
      "100%|██████████| 5/5 [02:23<00:00, 28.67s/it]\n",
      "100%|██████████| 4/4 [00:01<00:00,  2.09it/s]\n",
      "100%|██████████| 5/5 [00:31<00:00,  6.28s/it]\n"
     ]
    },
    {
     "name": "stdout",
     "output_type": "stream",
     "text": [
      "Grad * Input10 | Accuracy : 0.63950\n",
      "Grad * Input30 | Accuracy : 0.57820\n",
      "Grad * Input50 | Accuracy : 0.53850\n",
      "Grad * Input70 | Accuracy : 0.50100\n",
      "Grad * Input90 | Accuracy : 0.41360\n",
      "Grad * Input10 | Accuracy : 0.64330\n",
      "Grad * Input30 | Accuracy : 0.56910\n",
      "Grad * Input50 | Accuracy : 0.54760\n",
      "Grad * Input70 | Accuracy : 0.50400\n",
      "Grad * Input90 | Accuracy : 0.42150\n",
      "Grad * Input10 | Accuracy : 0.65030\n",
      "Grad * Input30 | Accuracy : 0.58280\n",
      "Grad * Input50 | Accuracy : 0.54550\n",
      "Grad * Input70 | Accuracy : 0.49900\n",
      "Grad * Input90 | Accuracy : 0.40920\n",
      "Saving results at results/roar_xent/exp4/adv/GM/0.01_0.02_40_inf_xent.pickle\n",
      "tf_logs/exp4/adv/GM/0.012_0.02_40_inf_xent/\n",
      "INFO:tensorflow:Restoring parameters from tf_logs/exp4/adv/GM/0.012_0.02_40_inf_xent/model\n"
     ]
    },
    {
     "name": "stderr",
     "output_type": "stream",
     "text": [
      "100%|██████████| 20/20 [00:07<00:00,  2.51it/s]\n",
      "100%|██████████| 5/5 [01:47<00:00, 21.48s/it]\n",
      "100%|██████████| 4/4 [00:02<00:00,  1.54it/s]\n",
      "100%|██████████| 5/5 [00:45<00:00,  9.09s/it]\n"
     ]
    },
    {
     "name": "stdout",
     "output_type": "stream",
     "text": [
      "Grad * Input10 | Accuracy : 0.65030\n",
      "Grad * Input30 | Accuracy : 0.57430\n",
      "Grad * Input50 | Accuracy : 0.54470\n",
      "Grad * Input70 | Accuracy : 0.49340\n",
      "Grad * Input90 | Accuracy : 0.40680\n",
      "Grad * Input10 | Accuracy : 0.64450\n",
      "Grad * Input30 | Accuracy : 0.57770\n",
      "Grad * Input50 | Accuracy : 0.52980\n",
      "Grad * Input70 | Accuracy : 0.49630\n",
      "Grad * Input90 | Accuracy : 0.41690\n",
      "Grad * Input10 | Accuracy : 0.64180\n",
      "Grad * Input30 | Accuracy : 0.58070\n",
      "Grad * Input50 | Accuracy : 0.53740\n",
      "Grad * Input70 | Accuracy : 0.48730\n",
      "Grad * Input90 | Accuracy : 0.41230\n",
      "Saving results at results/roar_xent/exp4/adv/GM/0.012_0.02_40_inf_xent.pickle\n",
      "tf_logs/exp4/adv/GM/0.014_0.02_40_inf_xent/\n",
      "INFO:tensorflow:Restoring parameters from tf_logs/exp4/adv/GM/0.014_0.02_40_inf_xent/model\n"
     ]
    },
    {
     "name": "stderr",
     "output_type": "stream",
     "text": [
      "100%|██████████| 20/20 [00:07<00:00,  2.55it/s]\n",
      "100%|██████████| 5/5 [01:48<00:00, 21.69s/it]\n",
      "100%|██████████| 4/4 [00:01<00:00,  2.31it/s]\n",
      "100%|██████████| 5/5 [00:34<00:00,  6.99s/it]\n"
     ]
    },
    {
     "name": "stdout",
     "output_type": "stream",
     "text": [
      "Grad * Input10 | Accuracy : 0.63540\n",
      "Grad * Input30 | Accuracy : 0.57610\n",
      "Grad * Input50 | Accuracy : 0.54430\n",
      "Grad * Input70 | Accuracy : 0.49260\n",
      "Grad * Input90 | Accuracy : 0.41090\n",
      "Grad * Input10 | Accuracy : 0.64450\n",
      "Grad * Input30 | Accuracy : 0.56740\n",
      "Grad * Input50 | Accuracy : 0.53250\n",
      "Grad * Input70 | Accuracy : 0.49420\n",
      "Grad * Input90 | Accuracy : 0.40440\n",
      "Grad * Input10 | Accuracy : 0.63640\n",
      "Grad * Input30 | Accuracy : 0.58160\n",
      "Grad * Input50 | Accuracy : 0.54620\n",
      "Grad * Input70 | Accuracy : 0.49430\n",
      "Grad * Input90 | Accuracy : 0.39920\n",
      "Saving results at results/roar_xent/exp4/adv/GM/0.014_0.02_40_inf_xent.pickle\n",
      "tf_logs/exp4/adv/GM/0.016_0.02_40_inf_xent/\n",
      "INFO:tensorflow:Restoring parameters from tf_logs/exp4/adv/GM/0.016_0.02_40_inf_xent/model\n"
     ]
    },
    {
     "name": "stderr",
     "output_type": "stream",
     "text": [
      "100%|██████████| 20/20 [00:07<00:00,  2.59it/s]\n",
      "100%|██████████| 5/5 [02:15<00:00, 27.03s/it]\n",
      "100%|██████████| 4/4 [00:01<00:00,  2.11it/s]\n",
      "100%|██████████| 5/5 [00:45<00:00,  9.06s/it]\n"
     ]
    },
    {
     "name": "stdout",
     "output_type": "stream",
     "text": [
      "Grad * Input10 | Accuracy : 0.63490\n",
      "Grad * Input30 | Accuracy : 0.58360\n",
      "Grad * Input50 | Accuracy : 0.52840\n",
      "Grad * Input70 | Accuracy : 0.48350\n",
      "Grad * Input90 | Accuracy : 0.40610\n",
      "Grad * Input10 | Accuracy : 0.64950\n",
      "Grad * Input30 | Accuracy : 0.57470\n",
      "Grad * Input50 | Accuracy : 0.53230\n",
      "Grad * Input70 | Accuracy : 0.48520\n",
      "Grad * Input90 | Accuracy : 0.39610\n",
      "Grad * Input10 | Accuracy : 0.65590\n",
      "Grad * Input30 | Accuracy : 0.57850\n",
      "Grad * Input50 | Accuracy : 0.53480\n",
      "Grad * Input70 | Accuracy : 0.49070\n",
      "Grad * Input90 | Accuracy : 0.41470\n",
      "Saving results at results/roar_xent/exp4/adv/GM/0.016_0.02_40_inf_xent.pickle\n",
      "tf_logs/exp4/adv/GM/0.018_0.02_40_inf_xent/\n",
      "INFO:tensorflow:Restoring parameters from tf_logs/exp4/adv/GM/0.018_0.02_40_inf_xent/model\n"
     ]
    },
    {
     "name": "stderr",
     "output_type": "stream",
     "text": [
      "100%|██████████| 20/20 [00:07<00:00,  2.69it/s]\n",
      "100%|██████████| 5/5 [02:16<00:00, 27.32s/it]\n",
      "100%|██████████| 4/4 [00:02<00:00,  1.98it/s]\n",
      "100%|██████████| 5/5 [00:32<00:00,  6.44s/it]\n"
     ]
    },
    {
     "name": "stdout",
     "output_type": "stream",
     "text": [
      "Grad * Input10 | Accuracy : 0.65810\n",
      "Grad * Input30 | Accuracy : 0.58040\n",
      "Grad * Input50 | Accuracy : 0.53880\n",
      "Grad * Input70 | Accuracy : 0.49060\n",
      "Grad * Input90 | Accuracy : 0.40150\n",
      "Grad * Input10 | Accuracy : 0.64420\n",
      "Grad * Input30 | Accuracy : 0.57510\n",
      "Grad * Input50 | Accuracy : 0.53160\n",
      "Grad * Input70 | Accuracy : 0.48240\n",
      "Grad * Input90 | Accuracy : 0.41460\n",
      "Grad * Input10 | Accuracy : 0.64840\n",
      "Grad * Input30 | Accuracy : 0.57780\n",
      "Grad * Input50 | Accuracy : 0.53820\n",
      "Grad * Input70 | Accuracy : 0.47920\n",
      "Grad * Input90 | Accuracy : 0.39240\n",
      "Saving results at results/roar_xent/exp4/adv/GM/0.018_0.02_40_inf_xent.pickle\n",
      "tf_logs/exp4/adv/GM/0.02_0.02_40_inf_xent/\n",
      "INFO:tensorflow:Restoring parameters from tf_logs/exp4/adv/GM/0.02_0.02_40_inf_xent/model\n"
     ]
    },
    {
     "name": "stderr",
     "output_type": "stream",
     "text": [
      "100%|██████████| 20/20 [00:07<00:00,  2.58it/s]\n",
      "100%|██████████| 5/5 [02:14<00:00, 26.91s/it]\n",
      "100%|██████████| 4/4 [00:01<00:00,  2.33it/s]\n",
      "100%|██████████| 5/5 [00:29<00:00,  5.94s/it]\n"
     ]
    },
    {
     "name": "stdout",
     "output_type": "stream",
     "text": [
      "Grad * Input10 | Accuracy : 0.65210\n",
      "Grad * Input30 | Accuracy : 0.57290\n",
      "Grad * Input50 | Accuracy : 0.52670\n",
      "Grad * Input70 | Accuracy : 0.47550\n",
      "Grad * Input90 | Accuracy : 0.39300\n",
      "Grad * Input10 | Accuracy : 0.64590\n",
      "Grad * Input30 | Accuracy : 0.57450\n",
      "Grad * Input50 | Accuracy : 0.53130\n",
      "Grad * Input70 | Accuracy : 0.47580\n",
      "Grad * Input90 | Accuracy : 0.40580\n",
      "Grad * Input10 | Accuracy : 0.65620\n",
      "Grad * Input30 | Accuracy : 0.57230\n",
      "Grad * Input50 | Accuracy : 0.52410\n",
      "Grad * Input70 | Accuracy : 0.48020\n",
      "Grad * Input90 | Accuracy : 0.41090\n",
      "Saving results at results/roar_xent/exp4/adv/GM/0.02_0.02_40_inf_xent.pickle\n",
      "tf_logs/exp4/adv/GM/0.022_0.02_40_inf_xent/\n",
      "INFO:tensorflow:Restoring parameters from tf_logs/exp4/adv/GM/0.022_0.02_40_inf_xent/model\n"
     ]
    },
    {
     "name": "stderr",
     "output_type": "stream",
     "text": [
      "100%|██████████| 20/20 [00:07<00:00,  2.67it/s]\n",
      "100%|██████████| 5/5 [02:20<00:00, 28.01s/it]\n",
      "100%|██████████| 4/4 [00:02<00:00,  1.87it/s]\n",
      "100%|██████████| 5/5 [00:36<00:00,  7.29s/it]\n"
     ]
    },
    {
     "name": "stdout",
     "output_type": "stream",
     "text": [
      "Grad * Input10 | Accuracy : 0.64450\n",
      "Grad * Input30 | Accuracy : 0.57500\n",
      "Grad * Input50 | Accuracy : 0.51650\n",
      "Grad * Input70 | Accuracy : 0.48220\n",
      "Grad * Input90 | Accuracy : 0.39810\n",
      "Grad * Input10 | Accuracy : 0.64990\n",
      "Grad * Input30 | Accuracy : 0.56260\n",
      "Grad * Input50 | Accuracy : 0.53210\n",
      "Grad * Input70 | Accuracy : 0.46890\n",
      "Grad * Input90 | Accuracy : 0.40430\n",
      "Grad * Input10 | Accuracy : 0.64510\n",
      "Grad * Input30 | Accuracy : 0.56730\n",
      "Grad * Input50 | Accuracy : 0.52070\n",
      "Grad * Input70 | Accuracy : 0.47100\n",
      "Grad * Input90 | Accuracy : 0.40080\n",
      "Saving results at results/roar_xent/exp4/adv/GM/0.022_0.02_40_inf_xent.pickle\n",
      "tf_logs/exp4/adv/GM/0.024_0.02_40_inf_xent/\n",
      "INFO:tensorflow:Restoring parameters from tf_logs/exp4/adv/GM/0.024_0.02_40_inf_xent/model\n"
     ]
    },
    {
     "name": "stderr",
     "output_type": "stream",
     "text": [
      "100%|██████████| 20/20 [00:08<00:00,  2.37it/s]\n",
      "100%|██████████| 5/5 [02:26<00:00, 29.37s/it]\n",
      "100%|██████████| 4/4 [00:01<00:00,  2.10it/s]\n",
      "100%|██████████| 5/5 [00:40<00:00,  8.15s/it]\n"
     ]
    },
    {
     "name": "stdout",
     "output_type": "stream",
     "text": [
      "Grad * Input10 | Accuracy : 0.65150\n",
      "Grad * Input30 | Accuracy : 0.56030\n",
      "Grad * Input50 | Accuracy : 0.51600\n",
      "Grad * Input70 | Accuracy : 0.46920\n",
      "Grad * Input90 | Accuracy : 0.39220\n",
      "Grad * Input10 | Accuracy : 0.63030\n",
      "Grad * Input30 | Accuracy : 0.56650\n",
      "Grad * Input50 | Accuracy : 0.51810\n",
      "Grad * Input70 | Accuracy : 0.45930\n",
      "Grad * Input90 | Accuracy : 0.38940\n",
      "Grad * Input10 | Accuracy : 0.63900\n",
      "Grad * Input30 | Accuracy : 0.56860\n",
      "Grad * Input50 | Accuracy : 0.51630\n",
      "Grad * Input70 | Accuracy : 0.46180\n",
      "Grad * Input90 | Accuracy : 0.39080\n",
      "Saving results at results/roar_xent/exp4/adv/GM/0.024_0.02_40_inf_xent.pickle\n",
      "tf_logs/exp4/adv/GM/0.026_0.02_40_inf_xent/\n",
      "INFO:tensorflow:Restoring parameters from tf_logs/exp4/adv/GM/0.026_0.02_40_inf_xent/model\n"
     ]
    },
    {
     "name": "stderr",
     "output_type": "stream",
     "text": [
      "100%|██████████| 20/20 [00:07<00:00,  2.54it/s]\n",
      "100%|██████████| 5/5 [02:14<00:00, 26.83s/it]\n",
      "100%|██████████| 4/4 [00:01<00:00,  2.03it/s]\n",
      "100%|██████████| 5/5 [00:40<00:00,  8.16s/it]\n"
     ]
    },
    {
     "name": "stdout",
     "output_type": "stream",
     "text": [
      "Grad * Input10 | Accuracy : 0.64600\n",
      "Grad * Input30 | Accuracy : 0.57270\n",
      "Grad * Input50 | Accuracy : 0.50650\n",
      "Grad * Input70 | Accuracy : 0.46140\n",
      "Grad * Input90 | Accuracy : 0.38970\n",
      "Grad * Input10 | Accuracy : 0.65410\n",
      "Grad * Input30 | Accuracy : 0.56060\n",
      "Grad * Input50 | Accuracy : 0.51930\n",
      "Grad * Input70 | Accuracy : 0.45590\n",
      "Grad * Input90 | Accuracy : 0.37730\n",
      "Grad * Input10 | Accuracy : 0.63830\n",
      "Grad * Input30 | Accuracy : 0.56920\n",
      "Grad * Input50 | Accuracy : 0.50240\n",
      "Grad * Input70 | Accuracy : 0.47000\n",
      "Grad * Input90 | Accuracy : 0.40800\n",
      "Saving results at results/roar_xent/exp4/adv/GM/0.026_0.02_40_inf_xent.pickle\n",
      "tf_logs/exp4/adv/GM/0.028_0.02_40_inf_xent/\n",
      "INFO:tensorflow:Restoring parameters from tf_logs/exp4/adv/GM/0.028_0.02_40_inf_xent/model\n"
     ]
    },
    {
     "name": "stderr",
     "output_type": "stream",
     "text": [
      "100%|██████████| 20/20 [00:07<00:00,  2.72it/s]\n",
      "100%|██████████| 5/5 [02:27<00:00, 29.41s/it]\n",
      "100%|██████████| 4/4 [00:02<00:00,  1.96it/s]\n",
      "100%|██████████| 5/5 [00:38<00:00,  7.74s/it]\n"
     ]
    },
    {
     "name": "stdout",
     "output_type": "stream",
     "text": [
      "Grad * Input10 | Accuracy : 0.64440\n",
      "Grad * Input30 | Accuracy : 0.55950\n",
      "Grad * Input50 | Accuracy : 0.51290\n",
      "Grad * Input70 | Accuracy : 0.47830\n",
      "Grad * Input90 | Accuracy : 0.39400\n",
      "Grad * Input10 | Accuracy : 0.62880\n",
      "Grad * Input30 | Accuracy : 0.55420\n",
      "Grad * Input50 | Accuracy : 0.51870\n",
      "Grad * Input70 | Accuracy : 0.46730\n",
      "Grad * Input90 | Accuracy : 0.39360\n",
      "Grad * Input10 | Accuracy : 0.63300\n",
      "Grad * Input30 | Accuracy : 0.56320\n",
      "Grad * Input50 | Accuracy : 0.51330\n",
      "Grad * Input70 | Accuracy : 0.47890\n",
      "Grad * Input90 | Accuracy : 0.38990\n",
      "Saving results at results/roar_xent/exp4/adv/GM/0.028_0.02_40_inf_xent.pickle\n",
      "tf_logs/exp4/adv/GM/0.03_0.02_40_inf_xent/\n",
      "INFO:tensorflow:Restoring parameters from tf_logs/exp4/adv/GM/0.03_0.02_40_inf_xent/model\n"
     ]
    },
    {
     "name": "stderr",
     "output_type": "stream",
     "text": [
      "100%|██████████| 20/20 [00:07<00:00,  2.65it/s]\n",
      "100%|██████████| 5/5 [02:05<00:00, 25.15s/it]\n",
      "100%|██████████| 4/4 [00:02<00:00,  1.98it/s]\n",
      "100%|██████████| 5/5 [00:36<00:00,  7.25s/it]\n"
     ]
    },
    {
     "name": "stdout",
     "output_type": "stream",
     "text": [
      "Grad * Input10 | Accuracy : 0.64220\n",
      "Grad * Input30 | Accuracy : 0.57810\n",
      "Grad * Input50 | Accuracy : 0.53280\n",
      "Grad * Input70 | Accuracy : 0.47740\n",
      "Grad * Input90 | Accuracy : 0.38660\n",
      "Grad * Input10 | Accuracy : 0.64770\n",
      "Grad * Input30 | Accuracy : 0.56150\n",
      "Grad * Input50 | Accuracy : 0.51320\n",
      "Grad * Input70 | Accuracy : 0.47360\n",
      "Grad * Input90 | Accuracy : 0.38470\n",
      "Grad * Input10 | Accuracy : 0.63720\n",
      "Grad * Input30 | Accuracy : 0.56260\n",
      "Grad * Input50 | Accuracy : 0.51910\n",
      "Grad * Input70 | Accuracy : 0.47110\n",
      "Grad * Input90 | Accuracy : 0.38660\n",
      "Saving results at results/roar_xent/exp4/adv/GM/0.03_0.02_40_inf_xent.pickle\n",
      "tf_logs/exp4/adv/GM/0.032_0.02_40_inf_xent/\n",
      "INFO:tensorflow:Restoring parameters from tf_logs/exp4/adv/GM/0.032_0.02_40_inf_xent/model\n"
     ]
    },
    {
     "name": "stderr",
     "output_type": "stream",
     "text": [
      "100%|██████████| 20/20 [00:08<00:00,  2.39it/s]\n",
      "100%|██████████| 5/5 [02:14<00:00, 27.00s/it]\n",
      "100%|██████████| 4/4 [00:01<00:00,  2.40it/s]\n",
      "100%|██████████| 5/5 [00:46<00:00,  9.22s/it]\n"
     ]
    },
    {
     "name": "stdout",
     "output_type": "stream",
     "text": [
      "Grad * Input10 | Accuracy : 0.64670\n",
      "Grad * Input30 | Accuracy : 0.56370\n",
      "Grad * Input50 | Accuracy : 0.51570\n",
      "Grad * Input70 | Accuracy : 0.46230\n",
      "Grad * Input90 | Accuracy : 0.38290\n",
      "Grad * Input10 | Accuracy : 0.65530\n",
      "Grad * Input30 | Accuracy : 0.57180\n",
      "Grad * Input50 | Accuracy : 0.51810\n",
      "Grad * Input70 | Accuracy : 0.46270\n",
      "Grad * Input90 | Accuracy : 0.37350\n",
      "Grad * Input10 | Accuracy : 0.64330\n",
      "Grad * Input30 | Accuracy : 0.56820\n",
      "Grad * Input50 | Accuracy : 0.51870\n",
      "Grad * Input70 | Accuracy : 0.46670\n",
      "Grad * Input90 | Accuracy : 0.38560\n",
      "Saving results at results/roar_xent/exp4/adv/GM/0.032_0.02_40_inf_xent.pickle\n",
      "tf_logs/exp4/adv/GM/0.034_0.02_40_inf_xent/\n",
      "INFO:tensorflow:Restoring parameters from tf_logs/exp4/adv/GM/0.034_0.02_40_inf_xent/model\n"
     ]
    },
    {
     "name": "stderr",
     "output_type": "stream",
     "text": [
      "100%|██████████| 20/20 [00:07<00:00,  2.65it/s]\n",
      "100%|██████████| 5/5 [02:31<00:00, 30.32s/it]\n",
      "100%|██████████| 4/4 [00:01<00:00,  2.03it/s]\n",
      "100%|██████████| 5/5 [00:46<00:00,  9.21s/it]\n"
     ]
    },
    {
     "name": "stdout",
     "output_type": "stream",
     "text": [
      "Grad * Input10 | Accuracy : 0.64100\n",
      "Grad * Input30 | Accuracy : 0.56780\n",
      "Grad * Input50 | Accuracy : 0.52170\n",
      "Grad * Input70 | Accuracy : 0.46260\n",
      "Grad * Input90 | Accuracy : 0.38300\n",
      "Grad * Input10 | Accuracy : 0.65670\n",
      "Grad * Input30 | Accuracy : 0.56010\n",
      "Grad * Input50 | Accuracy : 0.50520\n",
      "Grad * Input70 | Accuracy : 0.46570\n",
      "Grad * Input90 | Accuracy : 0.38510\n",
      "Grad * Input10 | Accuracy : 0.66070\n",
      "Grad * Input30 | Accuracy : 0.57710\n",
      "Grad * Input50 | Accuracy : 0.52110\n",
      "Grad * Input70 | Accuracy : 0.45920\n",
      "Grad * Input90 | Accuracy : 0.38590\n",
      "Saving results at results/roar_xent/exp4/adv/GM/0.034_0.02_40_inf_xent.pickle\n",
      "tf_logs/exp4/adv/GM/0.036_0.02_40_inf_xent/\n",
      "INFO:tensorflow:Restoring parameters from tf_logs/exp4/adv/GM/0.036_0.02_40_inf_xent/model\n"
     ]
    },
    {
     "name": "stderr",
     "output_type": "stream",
     "text": [
      "100%|██████████| 20/20 [00:07<00:00,  2.61it/s]\n",
      "100%|██████████| 5/5 [02:15<00:00, 27.10s/it]\n",
      "100%|██████████| 4/4 [00:01<00:00,  2.37it/s]\n",
      "100%|██████████| 5/5 [00:22<00:00,  4.55s/it]\n"
     ]
    },
    {
     "name": "stdout",
     "output_type": "stream",
     "text": [
      "Grad * Input10 | Accuracy : 0.65210\n",
      "Grad * Input30 | Accuracy : 0.57680\n",
      "Grad * Input50 | Accuracy : 0.51750\n",
      "Grad * Input70 | Accuracy : 0.46950\n",
      "Grad * Input90 | Accuracy : 0.37880\n",
      "Grad * Input10 | Accuracy : 0.65320\n",
      "Grad * Input30 | Accuracy : 0.56580\n",
      "Grad * Input50 | Accuracy : 0.50530\n",
      "Grad * Input70 | Accuracy : 0.47110\n",
      "Grad * Input90 | Accuracy : 0.37660\n",
      "Grad * Input10 | Accuracy : 0.65780\n",
      "Grad * Input30 | Accuracy : 0.57210\n",
      "Grad * Input50 | Accuracy : 0.51030\n",
      "Grad * Input70 | Accuracy : 0.47780\n",
      "Grad * Input90 | Accuracy : 0.38150\n",
      "Saving results at results/roar_xent/exp4/adv/GM/0.036_0.02_40_inf_xent.pickle\n",
      "tf_logs/exp4/adv/GM/0.038_0.02_40_inf_xent/\n",
      "INFO:tensorflow:Restoring parameters from tf_logs/exp4/adv/GM/0.038_0.02_40_inf_xent/model\n"
     ]
    },
    {
     "name": "stderr",
     "output_type": "stream",
     "text": [
      "100%|██████████| 20/20 [00:07<00:00,  2.55it/s]\n",
      "100%|██████████| 5/5 [02:05<00:00, 25.18s/it]\n",
      "100%|██████████| 4/4 [00:01<00:00,  2.08it/s]\n",
      "100%|██████████| 5/5 [00:46<00:00,  9.24s/it]\n"
     ]
    },
    {
     "name": "stdout",
     "output_type": "stream",
     "text": [
      "Grad * Input10 | Accuracy : 0.65070\n",
      "Grad * Input30 | Accuracy : 0.56080\n",
      "Grad * Input50 | Accuracy : 0.50770\n",
      "Grad * Input70 | Accuracy : 0.45740\n",
      "Grad * Input90 | Accuracy : 0.38450\n",
      "Grad * Input10 | Accuracy : 0.65840\n",
      "Grad * Input30 | Accuracy : 0.56680\n",
      "Grad * Input50 | Accuracy : 0.51020\n",
      "Grad * Input70 | Accuracy : 0.46520\n",
      "Grad * Input90 | Accuracy : 0.37940\n",
      "Grad * Input10 | Accuracy : 0.65290\n",
      "Grad * Input30 | Accuracy : 0.56250\n",
      "Grad * Input50 | Accuracy : 0.51160\n",
      "Grad * Input70 | Accuracy : 0.46400\n",
      "Grad * Input90 | Accuracy : 0.37070\n",
      "Saving results at results/roar_xent/exp4/adv/GM/0.038_0.02_40_inf_xent.pickle\n",
      "tf_logs/exp4/adv/GM/0.04_0.02_40_inf_xent/\n",
      "INFO:tensorflow:Restoring parameters from tf_logs/exp4/adv/GM/0.04_0.02_40_inf_xent/model\n"
     ]
    },
    {
     "name": "stderr",
     "output_type": "stream",
     "text": [
      "100%|██████████| 20/20 [00:08<00:00,  2.47it/s]\n",
      "100%|██████████| 5/5 [01:56<00:00, 23.22s/it]\n",
      "100%|██████████| 4/4 [00:01<00:00,  2.16it/s]\n",
      "100%|██████████| 5/5 [00:47<00:00,  9.56s/it]\n"
     ]
    },
    {
     "name": "stdout",
     "output_type": "stream",
     "text": [
      "Grad * Input10 | Accuracy : 0.63760\n",
      "Grad * Input30 | Accuracy : 0.55940\n",
      "Grad * Input50 | Accuracy : 0.50240\n",
      "Grad * Input70 | Accuracy : 0.45610\n",
      "Grad * Input90 | Accuracy : 0.37860\n",
      "Grad * Input10 | Accuracy : 0.64810\n",
      "Grad * Input30 | Accuracy : 0.55830\n",
      "Grad * Input50 | Accuracy : 0.52580\n",
      "Grad * Input70 | Accuracy : 0.47290\n",
      "Grad * Input90 | Accuracy : 0.39170\n",
      "Grad * Input10 | Accuracy : 0.64330\n",
      "Grad * Input30 | Accuracy : 0.56700\n",
      "Grad * Input50 | Accuracy : 0.51920\n",
      "Grad * Input70 | Accuracy : 0.45130\n",
      "Grad * Input90 | Accuracy : 0.38100\n",
      "Saving results at results/roar_xent/exp4/adv/GM/0.04_0.02_40_inf_xent.pickle\n"
     ]
    }
   ],
   "source": [
    "attack_paramss = params_maker(['eps', 'step_size', 'n_steps', 'norm', 'loss_type'], \\\n",
    "                              [[round(0.002 * i, 3) for i in range(1,21)], [0.02], [40], ['inf'], ['xent']])\n",
    "\n",
    "for attack_params in attack_paramss:\n",
    "    \n",
    "    run(attack_params, train_first=False, run_sensitivity=False, run_roar_kar=True, loss_type='xent', keep=False)"
   ]
  },
  {
   "cell_type": "code",
   "execution_count": 5,
   "metadata": {
    "collapsed": true
   },
   "outputs": [
    {
     "name": "stdout",
     "output_type": "stream",
     "text": [
      "tf_logs/exp4/adv/GM/0.016_0.02_40_inf_cw/\n",
      "INFO:tensorflow:Restoring parameters from tf_logs/exp4/adv/GM/0.016_0.02_40_inf_cw/model\n"
     ]
    },
    {
     "name": "stderr",
     "output_type": "stream",
     "text": [
      "100%|██████████| 20/20 [00:09<00:00,  2.01it/s]\n",
      "100%|██████████| 5/5 [01:23<00:00, 16.80s/it]\n",
      "100%|██████████| 4/4 [00:01<00:00,  2.22it/s]\n",
      "100%|██████████| 5/5 [00:18<00:00,  3.69s/it]\n"
     ]
    },
    {
     "name": "stdout",
     "output_type": "stream",
     "text": [
      "Grad * Input10 | Accuracy : 0.64600\n",
      "Grad * Input30 | Accuracy : 0.57830\n",
      "Grad * Input50 | Accuracy : 0.52400\n",
      "Grad * Input70 | Accuracy : 0.48660\n",
      "Grad * Input90 | Accuracy : 0.41270\n",
      "Grad * Input10 | Accuracy : 0.64860\n",
      "Grad * Input30 | Accuracy : 0.58140\n",
      "Grad * Input50 | Accuracy : 0.53560\n",
      "Grad * Input70 | Accuracy : 0.47900\n",
      "Grad * Input90 | Accuracy : 0.39960\n",
      "Grad * Input10 | Accuracy : 0.63110\n",
      "Grad * Input30 | Accuracy : 0.57610\n",
      "Grad * Input50 | Accuracy : 0.53080\n",
      "Grad * Input70 | Accuracy : 0.48080\n",
      "Grad * Input90 | Accuracy : 0.40710\n",
      "Saving results at results/roar_xent/exp4/adv/GM/0.016_0.02_40_inf_cw.pickle\n",
      "tf_logs/exp4/adv/GM/0.018_0.02_40_inf_cw/\n",
      "INFO:tensorflow:Restoring parameters from tf_logs/exp4/adv/GM/0.018_0.02_40_inf_cw/model\n"
     ]
    },
    {
     "name": "stderr",
     "output_type": "stream",
     "text": [
      "100%|██████████| 20/20 [00:07<00:00,  2.68it/s]\n",
      "100%|██████████| 5/5 [01:42<00:00, 20.41s/it]\n",
      "100%|██████████| 4/4 [00:01<00:00,  2.18it/s]\n",
      "100%|██████████| 5/5 [00:25<00:00,  5.17s/it]\n"
     ]
    },
    {
     "name": "stdout",
     "output_type": "stream",
     "text": [
      "Grad * Input10 | Accuracy : 0.64960\n",
      "Grad * Input30 | Accuracy : 0.58380\n",
      "Grad * Input50 | Accuracy : 0.54030\n",
      "Grad * Input70 | Accuracy : 0.47650\n",
      "Grad * Input90 | Accuracy : 0.40660\n",
      "Grad * Input10 | Accuracy : 0.64680\n",
      "Grad * Input30 | Accuracy : 0.58670\n",
      "Grad * Input50 | Accuracy : 0.52540\n",
      "Grad * Input70 | Accuracy : 0.47240\n",
      "Grad * Input90 | Accuracy : 0.40360\n",
      "Grad * Input10 | Accuracy : 0.65500\n",
      "Grad * Input30 | Accuracy : 0.57010\n",
      "Grad * Input50 | Accuracy : 0.52390\n",
      "Grad * Input70 | Accuracy : 0.47530\n",
      "Grad * Input90 | Accuracy : 0.39970\n",
      "Saving results at results/roar_xent/exp4/adv/GM/0.018_0.02_40_inf_cw.pickle\n",
      "tf_logs/exp4/adv/GM/0.02_0.02_40_inf_cw/\n",
      "INFO:tensorflow:Restoring parameters from tf_logs/exp4/adv/GM/0.02_0.02_40_inf_cw/model\n"
     ]
    },
    {
     "name": "stderr",
     "output_type": "stream",
     "text": [
      "100%|██████████| 20/20 [00:07<00:00,  2.58it/s]\n",
      "100%|██████████| 5/5 [02:02<00:00, 24.56s/it]\n",
      "100%|██████████| 4/4 [00:01<00:00,  2.47it/s]\n",
      "100%|██████████| 5/5 [00:38<00:00,  7.79s/it]\n"
     ]
    },
    {
     "name": "stdout",
     "output_type": "stream",
     "text": [
      "Grad * Input10 | Accuracy : 0.64050\n",
      "Grad * Input30 | Accuracy : 0.57530\n",
      "Grad * Input50 | Accuracy : 0.53540\n",
      "Grad * Input70 | Accuracy : 0.47380\n",
      "Grad * Input90 | Accuracy : 0.39200\n",
      "Grad * Input10 | Accuracy : 0.64070\n",
      "Grad * Input30 | Accuracy : 0.58350\n",
      "Grad * Input50 | Accuracy : 0.52800\n",
      "Grad * Input70 | Accuracy : 0.48290\n",
      "Grad * Input90 | Accuracy : 0.39060\n",
      "Grad * Input10 | Accuracy : 0.64260\n",
      "Grad * Input30 | Accuracy : 0.57270\n",
      "Grad * Input50 | Accuracy : 0.52610\n",
      "Grad * Input70 | Accuracy : 0.48470\n",
      "Grad * Input90 | Accuracy : 0.40820\n",
      "Saving results at results/roar_xent/exp4/adv/GM/0.02_0.02_40_inf_cw.pickle\n",
      "tf_logs/exp4/adv/GM/0.022_0.02_40_inf_cw/\n",
      "INFO:tensorflow:Restoring parameters from tf_logs/exp4/adv/GM/0.022_0.02_40_inf_cw/model\n"
     ]
    },
    {
     "name": "stderr",
     "output_type": "stream",
     "text": [
      "100%|██████████| 20/20 [00:12<00:00,  1.66it/s]\n",
      "100%|██████████| 5/5 [05:26<00:00, 65.34s/it]\n",
      "100%|██████████| 4/4 [00:02<00:00,  1.85it/s]\n",
      "100%|██████████| 5/5 [01:06<00:00, 13.30s/it]\n"
     ]
    },
    {
     "name": "stdout",
     "output_type": "stream",
     "text": [
      "Grad * Input10 | Accuracy : 0.64060\n",
      "Grad * Input30 | Accuracy : 0.58500\n",
      "Grad * Input50 | Accuracy : 0.52450\n",
      "Grad * Input70 | Accuracy : 0.47280\n",
      "Grad * Input90 | Accuracy : 0.38610\n",
      "Grad * Input10 | Accuracy : 0.65460\n",
      "Grad * Input30 | Accuracy : 0.57430\n",
      "Grad * Input50 | Accuracy : 0.53290\n",
      "Grad * Input70 | Accuracy : 0.48160\n",
      "Grad * Input90 | Accuracy : 0.40080\n",
      "Grad * Input10 | Accuracy : 0.63990\n",
      "Grad * Input30 | Accuracy : 0.58090\n",
      "Grad * Input50 | Accuracy : 0.52520\n",
      "Grad * Input70 | Accuracy : 0.48560\n",
      "Grad * Input90 | Accuracy : 0.39160\n",
      "Saving results at results/roar_xent/exp4/adv/GM/0.022_0.02_40_inf_cw.pickle\n",
      "tf_logs/exp4/adv/GM/0.024_0.02_40_inf_cw/\n",
      "INFO:tensorflow:Restoring parameters from tf_logs/exp4/adv/GM/0.024_0.02_40_inf_cw/model\n"
     ]
    },
    {
     "name": "stderr",
     "output_type": "stream",
     "text": [
      "100%|██████████| 20/20 [00:13<00:00,  1.44it/s]\n",
      "100%|██████████| 5/5 [05:33<00:00, 66.80s/it]\n",
      "100%|██████████| 4/4 [00:03<00:00,  1.21it/s]\n",
      "100%|██████████| 5/5 [02:32<00:00, 30.53s/it]\n"
     ]
    },
    {
     "name": "stdout",
     "output_type": "stream",
     "text": [
      "Grad * Input10 | Accuracy : 0.64790\n",
      "Grad * Input30 | Accuracy : 0.57170\n",
      "Grad * Input50 | Accuracy : 0.53750\n",
      "Grad * Input70 | Accuracy : 0.48140\n",
      "Grad * Input90 | Accuracy : 0.39000\n",
      "Grad * Input10 | Accuracy : 0.64310\n",
      "Grad * Input30 | Accuracy : 0.56190\n",
      "Grad * Input50 | Accuracy : 0.53730\n",
      "Grad * Input70 | Accuracy : 0.47610\n",
      "Grad * Input90 | Accuracy : 0.39600\n",
      "Grad * Input10 | Accuracy : 0.65280\n",
      "Grad * Input30 | Accuracy : 0.56820\n",
      "Grad * Input50 | Accuracy : 0.52650\n",
      "Grad * Input70 | Accuracy : 0.48200\n",
      "Grad * Input90 | Accuracy : 0.39920\n",
      "Saving results at results/roar_xent/exp4/adv/GM/0.024_0.02_40_inf_cw.pickle\n",
      "tf_logs/exp4/adv/GM/0.026_0.02_40_inf_cw/\n",
      "INFO:tensorflow:Restoring parameters from tf_logs/exp4/adv/GM/0.026_0.02_40_inf_cw/model\n"
     ]
    },
    {
     "name": "stderr",
     "output_type": "stream",
     "text": [
      "100%|██████████| 20/20 [00:07<00:00,  2.71it/s]\n",
      "100%|██████████| 5/5 [01:21<00:00, 16.27s/it]\n",
      "100%|██████████| 4/4 [00:01<00:00,  2.05it/s]\n",
      "100%|██████████| 5/5 [00:32<00:00,  6.44s/it]\n"
     ]
    },
    {
     "name": "stdout",
     "output_type": "stream",
     "text": [
      "Grad * Input10 | Accuracy : 0.64780\n",
      "Grad * Input30 | Accuracy : 0.57800\n",
      "Grad * Input50 | Accuracy : 0.51110\n",
      "Grad * Input70 | Accuracy : 0.47020\n",
      "Grad * Input90 | Accuracy : 0.38350\n",
      "Grad * Input10 | Accuracy : 0.64570\n",
      "Grad * Input30 | Accuracy : 0.57200\n",
      "Grad * Input50 | Accuracy : 0.52070\n",
      "Grad * Input70 | Accuracy : 0.46880\n",
      "Grad * Input90 | Accuracy : 0.39430\n",
      "Grad * Input10 | Accuracy : 0.63710\n",
      "Grad * Input30 | Accuracy : 0.56560\n",
      "Grad * Input50 | Accuracy : 0.52060\n",
      "Grad * Input70 | Accuracy : 0.46590\n",
      "Grad * Input90 | Accuracy : 0.38740\n",
      "Saving results at results/roar_xent/exp4/adv/GM/0.026_0.02_40_inf_cw.pickle\n",
      "tf_logs/exp4/adv/GM/0.028_0.02_40_inf_cw/\n",
      "INFO:tensorflow:Restoring parameters from tf_logs/exp4/adv/GM/0.028_0.02_40_inf_cw/model\n"
     ]
    },
    {
     "name": "stderr",
     "output_type": "stream",
     "text": [
      "100%|██████████| 20/20 [00:07<00:00,  2.55it/s]\n",
      "100%|██████████| 5/5 [01:35<00:00, 19.10s/it]\n",
      "100%|██████████| 4/4 [00:01<00:00,  2.16it/s]\n",
      "100%|██████████| 5/5 [00:41<00:00,  8.29s/it]\n"
     ]
    },
    {
     "name": "stdout",
     "output_type": "stream",
     "text": [
      "Grad * Input10 | Accuracy : 0.64770\n",
      "Grad * Input30 | Accuracy : 0.56170\n",
      "Grad * Input50 | Accuracy : 0.51430\n",
      "Grad * Input70 | Accuracy : 0.46450\n",
      "Grad * Input90 | Accuracy : 0.39510\n",
      "Grad * Input10 | Accuracy : 0.64760\n",
      "Grad * Input30 | Accuracy : 0.56820\n",
      "Grad * Input50 | Accuracy : 0.51060\n",
      "Grad * Input70 | Accuracy : 0.48380\n",
      "Grad * Input90 | Accuracy : 0.37830\n",
      "Grad * Input10 | Accuracy : 0.65000\n",
      "Grad * Input30 | Accuracy : 0.55920\n",
      "Grad * Input50 | Accuracy : 0.52030\n",
      "Grad * Input70 | Accuracy : 0.48360\n",
      "Grad * Input90 | Accuracy : 0.39650\n",
      "Saving results at results/roar_xent/exp4/adv/GM/0.028_0.02_40_inf_cw.pickle\n",
      "tf_logs/exp4/adv/GM/0.03_0.02_40_inf_cw/\n",
      "INFO:tensorflow:Restoring parameters from tf_logs/exp4/adv/GM/0.03_0.02_40_inf_cw/model\n"
     ]
    },
    {
     "name": "stderr",
     "output_type": "stream",
     "text": [
      "100%|██████████| 20/20 [00:07<00:00,  2.52it/s]\n",
      "100%|██████████| 5/5 [01:59<00:00, 24.00s/it]\n",
      "100%|██████████| 4/4 [00:01<00:00,  2.35it/s]\n",
      "100%|██████████| 5/5 [00:38<00:00,  7.71s/it]\n"
     ]
    },
    {
     "name": "stdout",
     "output_type": "stream",
     "text": [
      "Grad * Input10 | Accuracy : 0.64360\n",
      "Grad * Input30 | Accuracy : 0.54920\n",
      "Grad * Input50 | Accuracy : 0.52400\n",
      "Grad * Input70 | Accuracy : 0.47160\n",
      "Grad * Input90 | Accuracy : 0.39700\n",
      "Grad * Input10 | Accuracy : 0.63960\n",
      "Grad * Input30 | Accuracy : 0.56910\n",
      "Grad * Input50 | Accuracy : 0.51070\n",
      "Grad * Input70 | Accuracy : 0.47250\n",
      "Grad * Input90 | Accuracy : 0.38360\n",
      "Grad * Input10 | Accuracy : 0.65720\n",
      "Grad * Input30 | Accuracy : 0.56320\n",
      "Grad * Input50 | Accuracy : 0.51940\n",
      "Grad * Input70 | Accuracy : 0.47670\n",
      "Grad * Input90 | Accuracy : 0.39520\n",
      "Saving results at results/roar_xent/exp4/adv/GM/0.03_0.02_40_inf_cw.pickle\n",
      "tf_logs/exp4/adv/GM/0.032_0.02_40_inf_cw/\n",
      "INFO:tensorflow:Restoring parameters from tf_logs/exp4/adv/GM/0.032_0.02_40_inf_cw/model\n"
     ]
    },
    {
     "name": "stderr",
     "output_type": "stream",
     "text": [
      "100%|██████████| 20/20 [00:09<00:00,  2.20it/s]\n",
      "100%|██████████| 5/5 [03:19<00:00, 39.84s/it]\n",
      "100%|██████████| 4/4 [00:01<00:00,  2.41it/s]\n",
      "100%|██████████| 5/5 [00:41<00:00,  8.20s/it]\n"
     ]
    },
    {
     "name": "stdout",
     "output_type": "stream",
     "text": [
      "Grad * Input10 | Accuracy : 0.65460\n",
      "Grad * Input30 | Accuracy : 0.56450\n",
      "Grad * Input50 | Accuracy : 0.51530\n",
      "Grad * Input70 | Accuracy : 0.47890\n",
      "Grad * Input90 | Accuracy : 0.39270\n",
      "Grad * Input10 | Accuracy : 0.65220\n",
      "Grad * Input30 | Accuracy : 0.56500\n",
      "Grad * Input50 | Accuracy : 0.52870\n",
      "Grad * Input70 | Accuracy : 0.48370\n",
      "Grad * Input90 | Accuracy : 0.38720\n",
      "Grad * Input10 | Accuracy : 0.63910\n",
      "Grad * Input30 | Accuracy : 0.56390\n",
      "Grad * Input50 | Accuracy : 0.51330\n",
      "Grad * Input70 | Accuracy : 0.46810\n",
      "Grad * Input90 | Accuracy : 0.38840\n",
      "Saving results at results/roar_xent/exp4/adv/GM/0.032_0.02_40_inf_cw.pickle\n",
      "tf_logs/exp4/adv/GM/0.034_0.02_40_inf_cw/\n",
      "INFO:tensorflow:Restoring parameters from tf_logs/exp4/adv/GM/0.034_0.02_40_inf_cw/model\n"
     ]
    },
    {
     "name": "stderr",
     "output_type": "stream",
     "text": [
      "100%|██████████| 20/20 [00:08<00:00,  2.49it/s]\n",
      "100%|██████████| 5/5 [02:07<00:00, 25.53s/it]\n",
      "100%|██████████| 4/4 [00:01<00:00,  2.35it/s]\n",
      "100%|██████████| 5/5 [00:37<00:00,  7.55s/it]\n"
     ]
    },
    {
     "name": "stdout",
     "output_type": "stream",
     "text": [
      "Grad * Input10 | Accuracy : 0.65010\n",
      "Grad * Input30 | Accuracy : 0.56410\n",
      "Grad * Input50 | Accuracy : 0.52570\n",
      "Grad * Input70 | Accuracy : 0.46630\n",
      "Grad * Input90 | Accuracy : 0.39260\n",
      "Grad * Input10 | Accuracy : 0.63860\n",
      "Grad * Input30 | Accuracy : 0.56260\n",
      "Grad * Input50 | Accuracy : 0.51400\n",
      "Grad * Input70 | Accuracy : 0.46890\n",
      "Grad * Input90 | Accuracy : 0.39850\n",
      "Grad * Input10 | Accuracy : 0.65750\n",
      "Grad * Input30 | Accuracy : 0.56920\n",
      "Grad * Input50 | Accuracy : 0.50900\n",
      "Grad * Input70 | Accuracy : 0.46140\n",
      "Grad * Input90 | Accuracy : 0.38610\n",
      "Saving results at results/roar_xent/exp4/adv/GM/0.034_0.02_40_inf_cw.pickle\n",
      "tf_logs/exp4/adv/GM/0.036_0.02_40_inf_cw/\n",
      "INFO:tensorflow:Restoring parameters from tf_logs/exp4/adv/GM/0.036_0.02_40_inf_cw/model\n"
     ]
    },
    {
     "name": "stderr",
     "output_type": "stream",
     "text": [
      "100%|██████████| 20/20 [00:07<00:00,  2.60it/s]\n",
      "100%|██████████| 5/5 [01:15<00:00, 15.10s/it]\n",
      "100%|██████████| 4/4 [00:01<00:00,  2.10it/s]\n",
      "100%|██████████| 5/5 [00:31<00:00,  6.28s/it]\n"
     ]
    },
    {
     "name": "stdout",
     "output_type": "stream",
     "text": [
      "Grad * Input10 | Accuracy : 0.65070\n",
      "Grad * Input30 | Accuracy : 0.56560\n",
      "Grad * Input50 | Accuracy : 0.51040\n",
      "Grad * Input70 | Accuracy : 0.46550\n",
      "Grad * Input90 | Accuracy : 0.38610\n",
      "Grad * Input10 | Accuracy : 0.64500\n",
      "Grad * Input30 | Accuracy : 0.55720\n",
      "Grad * Input50 | Accuracy : 0.51010\n",
      "Grad * Input70 | Accuracy : 0.45600\n",
      "Grad * Input90 | Accuracy : 0.38700\n",
      "Grad * Input10 | Accuracy : 0.64290\n",
      "Grad * Input30 | Accuracy : 0.56520\n",
      "Grad * Input50 | Accuracy : 0.49950\n",
      "Grad * Input70 | Accuracy : 0.44520\n",
      "Grad * Input90 | Accuracy : 0.38660\n",
      "Saving results at results/roar_xent/exp4/adv/GM/0.036_0.02_40_inf_cw.pickle\n",
      "tf_logs/exp4/adv/GM/0.038_0.02_40_inf_cw/\n",
      "INFO:tensorflow:Restoring parameters from tf_logs/exp4/adv/GM/0.038_0.02_40_inf_cw/model\n"
     ]
    },
    {
     "name": "stderr",
     "output_type": "stream",
     "text": [
      "100%|██████████| 20/20 [00:08<00:00,  2.43it/s]\n",
      "100%|██████████| 5/5 [02:31<00:00, 30.34s/it]\n",
      "100%|██████████| 4/4 [00:01<00:00,  2.15it/s]\n",
      "100%|██████████| 5/5 [00:47<00:00,  9.45s/it]\n"
     ]
    },
    {
     "name": "stdout",
     "output_type": "stream",
     "text": [
      "Grad * Input10 | Accuracy : 0.65940\n",
      "Grad * Input30 | Accuracy : 0.57260\n",
      "Grad * Input50 | Accuracy : 0.51300\n",
      "Grad * Input70 | Accuracy : 0.46000\n",
      "Grad * Input90 | Accuracy : 0.38790\n",
      "Grad * Input10 | Accuracy : 0.65590\n",
      "Grad * Input30 | Accuracy : 0.56560\n",
      "Grad * Input50 | Accuracy : 0.50450\n",
      "Grad * Input70 | Accuracy : 0.46180\n",
      "Grad * Input90 | Accuracy : 0.37680\n",
      "Grad * Input10 | Accuracy : 0.64930\n",
      "Grad * Input30 | Accuracy : 0.56410\n",
      "Grad * Input50 | Accuracy : 0.50420\n",
      "Grad * Input70 | Accuracy : 0.45150\n",
      "Grad * Input90 | Accuracy : 0.38210\n",
      "Saving results at results/roar_xent/exp4/adv/GM/0.038_0.02_40_inf_cw.pickle\n",
      "tf_logs/exp4/adv/GM/0.04_0.02_40_inf_cw/\n",
      "INFO:tensorflow:Restoring parameters from tf_logs/exp4/adv/GM/0.04_0.02_40_inf_cw/model\n"
     ]
    },
    {
     "name": "stderr",
     "output_type": "stream",
     "text": [
      "100%|██████████| 20/20 [00:07<00:00,  2.74it/s]\n",
      "100%|██████████| 5/5 [01:29<00:00, 17.93s/it]\n",
      "100%|██████████| 4/4 [00:01<00:00,  2.48it/s]\n",
      "100%|██████████| 5/5 [00:35<00:00,  7.10s/it]\n"
     ]
    },
    {
     "name": "stdout",
     "output_type": "stream",
     "text": [
      "Grad * Input10 | Accuracy : 0.64820\n",
      "Grad * Input30 | Accuracy : 0.56600\n",
      "Grad * Input50 | Accuracy : 0.51120\n",
      "Grad * Input70 | Accuracy : 0.46110\n",
      "Grad * Input90 | Accuracy : 0.38250\n",
      "Grad * Input10 | Accuracy : 0.64890\n",
      "Grad * Input30 | Accuracy : 0.56210\n",
      "Grad * Input50 | Accuracy : 0.50580\n",
      "Grad * Input70 | Accuracy : 0.45580\n",
      "Grad * Input90 | Accuracy : 0.38080\n",
      "Grad * Input10 | Accuracy : 0.64560\n",
      "Grad * Input30 | Accuracy : 0.55380\n",
      "Grad * Input50 | Accuracy : 0.50150\n",
      "Grad * Input70 | Accuracy : 0.45620\n",
      "Grad * Input90 | Accuracy : 0.38390\n",
      "Saving results at results/roar_xent/exp4/adv/GM/0.04_0.02_40_inf_cw.pickle\n"
     ]
    }
   ],
   "source": [
    "attack_paramss = params_maker(['eps', 'step_size', 'n_steps', 'norm', 'loss_type'], \\\n",
    "                              [[round(0.002 * i, 3) for i in range(8,21)], [0.02], [40], ['inf'], ['cw']])\n",
    "\n",
    "for attack_params in attack_paramss:\n",
    "    \n",
    "    run(attack_params, train_first=False, run_sensitivity=False, run_roar_kar=True, loss_type='xent', keep=False)"
   ]
  },
  {
   "cell_type": "code",
   "execution_count": null,
   "metadata": {},
   "outputs": [],
   "source": [
    "attack_paramss = params_maker(['eps', 'step_size', 'n_steps', 'norm', 'loss_type'], \\\n",
    "                              [[round(0.002 * i, 3) for i in range(1,21)], [0.02], [40], ['inf'], ['xent']])\n",
    "\n",
    "for attack_params in attack_paramss:\n",
    "    \n",
    "    run(attack_params, train_first=False, run_sensitivity=False, run_roar_kar=True, loss_type='xent', keep=True)"
   ]
  },
  {
   "cell_type": "code",
   "execution_count": null,
   "metadata": {},
   "outputs": [],
   "source": [
    "attack_paramss = params_maker(['eps', 'step_size', 'n_steps', 'norm', 'loss_type'], \\\n",
    "                              [[round(0.002 * i, 3) for i in range(1,21)], [0.02], [40], ['inf'], ['cw']])\n",
    "\n",
    "for attack_params in attack_paramss:\n",
    "    \n",
    "    run(attack_params, train_first=False, run_sensitivity=False, run_roar_kar=True, loss_type='xent', keep=True)"
   ]
  },
  {
   "cell_type": "code",
   "execution_count": null,
   "metadata": {},
   "outputs": [],
   "source": []
  }
 ],
 "metadata": {
  "kernelspec": {
   "display_name": "Python 3",
   "language": "python",
   "name": "python3"
  },
  "language_info": {
   "codemirror_mode": {
    "name": "ipython",
    "version": 3
   },
   "file_extension": ".py",
   "mimetype": "text/x-python",
   "name": "python",
   "nbconvert_exporter": "python",
   "pygments_lexer": "ipython3",
   "version": "3.5.2"
  }
 },
 "nbformat": 4,
 "nbformat_minor": 2
}
