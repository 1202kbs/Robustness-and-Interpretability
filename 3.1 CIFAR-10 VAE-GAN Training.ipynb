{
 "cells": [
  {
   "cell_type": "code",
   "execution_count": null,
   "metadata": {},
   "outputs": [],
   "source": [
    "import os\n",
    "\n",
    "if not os.path.exists('CIFAR10_data'):\n",
    "    \n",
    "    !wget https://www.cs.toronto.edu/~kriz/cifar-10-python.tar.gz\n",
    "    !mkdir CIFAR10_data\n",
    "    !tar -xf cifar-10-python.tar.gz -C CIFAR10_data\n",
    "\n",
    "import matplotlib.pyplot as plt\n",
    "import numpy as np\n",
    "import tensorflow as tf\n",
    "from tqdm import tqdm\n",
    "\n",
    "from trainers import TrainerForVAEGAN\n",
    "from utils import unpickle\n",
    "from vae_gans import CIFAR_VAE_GAN\n",
    "\n",
    "datadir = 'CIFAR10_data/cifar-10-batches-py/'\n",
    "batches_train = sorted([datadir + batch for batch in os.listdir(datadir) if 'data_batch' in batch], key=lambda x: int(x[-1]))\n",
    "batch_test = [datadir + 'test_batch']\n",
    "batches = batches_train + batch_test\n"
   ]
  },
  {
   "cell_type": "code",
   "execution_count": null,
   "metadata": {},
   "outputs": [],
   "source": [
    "batch = unpickle(batches[0])\n",
    "data = batch[b'data'].astype(np.float32)\n",
    "cifar = np.transpose(np.reshape(data, [-1, 3, 32, 32]), [0, 2, 3, 1])\n",
    "labels = batch[b'labels']\n",
    "\n",
    "for i in tqdm(range(1, 5)):\n",
    "    batch = unpickle(batches[i])\n",
    "\n",
    "    data = batch[b'data'].astype(np.float32)\n",
    "    cifar = np.concatenate((cifar, np.transpose(np.reshape(data, [-1, 3, 32, 32]), [0, 2, 3, 1])), axis=0)\n",
    "    labels = np.concatenate((labels, batch[b'labels']), axis=0)\n",
    "\n",
    "scaled_cifar = cifar / 127.5 - 1.0\n",
    "\n",
    "test_batch = unpickle(batches[5])\n",
    "cifar_test = np.transpose(np.reshape(test_batch[b'data'], [-1, 3, 32, 32]), [0, 2, 3, 1])\n",
    "scaled_cifar_test = cifar_test / 127.5 - 1.0\n",
    "labels_test = np.array(test_batch[b'labels'])\n",
    "\n",
    "data_train = (scaled_cifar, labels)\n",
    "data_test = (scaled_cifar_test, labels_test)\n"
   ]
  },
  {
   "cell_type": "code",
   "execution_count": null,
   "metadata": {},
   "outputs": [],
   "source": [
    "plt.figure(figsize=(4, 4))\n",
    "\n",
    "for i in range(16):\n",
    "    image = (data_train[0][i] + 1) * 0.5\n",
    "\n",
    "    plt.subplot(4, 4, i + 1)\n",
    "    plt.imshow(image.reshape(32, 32, 3))\n",
    "    plt.xticks([])\n",
    "    plt.yticks([])\n",
    "\n",
    "plt.suptitle('Training Data', fontsize=20, y=1.03)\n",
    "plt.tight_layout()\n",
    "plt.subplots_adjust(wspace=0.0, hspace=0.0)\n",
    "\n",
    "plt.show()\n",
    "plt.close()\n"
   ]
  },
  {
   "cell_type": "code",
   "execution_count": null,
   "metadata": {
    "scrolled": true
   },
   "outputs": [],
   "source": [
    "tf.reset_default_graph()\n",
    "vae_gan = CIFAR_VAE_GAN('tf_logs/exp3/vae-gan/', lmda=1e-2, zdim=128, learning_rate=2e-4, beta1=0.0, beta2=0.9)\n",
    "\n",
    "sess = tf.InteractiveSession()\n",
    "sess.run(tf.global_variables_initializer())\n",
    "\n",
    "trainer = TrainerForVAEGAN(sess, vae_gan, data_train, n_dis=5)\n",
    "trainer.train(150, p_epochs=1)"
   ]
  },
  {
   "cell_type": "code",
   "execution_count": null,
   "metadata": {},
   "outputs": [],
   "source": []
  }
 ],
 "metadata": {
  "kernelspec": {
   "display_name": "Python 3",
   "language": "python",
   "name": "python3"
  },
  "language_info": {
   "codemirror_mode": {
    "name": "ipython",
    "version": 3
   },
   "file_extension": ".py",
   "mimetype": "text/x-python",
   "name": "python",
   "nbconvert_exporter": "python",
   "pygments_lexer": "ipython3",
   "version": "3.6.8"
  },
  "latex_envs": {
   "LaTeX_envs_menu_present": true,
   "autoclose": false,
   "autocomplete": true,
   "bibliofile": "biblio.bib",
   "cite_by": "apalike",
   "current_citInitial": 1,
   "eqLabelWithNumbers": true,
   "eqNumInitial": 1,
   "hotkeys": {
    "equation": "Ctrl-E",
    "itemize": "Ctrl-I"
   },
   "labels_anchors": false,
   "latex_user_defs": false,
   "report_style_numbering": false,
   "user_envs_cfg": false
  }
 },
 "nbformat": 4,
 "nbformat_minor": 2
}
