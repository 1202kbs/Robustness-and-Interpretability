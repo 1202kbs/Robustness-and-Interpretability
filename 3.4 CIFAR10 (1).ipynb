{
 "cells": [
  {
   "cell_type": "code",
   "execution_count": 1,
   "metadata": {},
   "outputs": [
    {
     "name": "stderr",
     "output_type": "stream",
     "text": [
      "/usr/local/lib/python3.5/dist-packages/h5py/__init__.py:36: FutureWarning: Conversion of the second argument of issubdtype from `float` to `np.floating` is deprecated. In future, it will be treated as `np.float64 == np.dtype(float).type`.\n",
      "  from ._conv import register_converters as _register_converters\n",
      "100%|██████████| 5/5 [00:02<00:00,  2.11it/s]\n"
     ]
    }
   ],
   "source": [
    "import os, math, collections, itertools\n",
    "\n",
    "from tqdm import tqdm\n",
    "\n",
    "import matplotlib.pyplot as plt\n",
    "import tensorflow as tf\n",
    "import skimage.measure\n",
    "import numpy as np\n",
    "\n",
    "from utils import save, unpickle, pixel_range, preprocess, batch_run, scale\n",
    "from deepexplain.tensorflow import DeepExplain\n",
    "from classifiers import CIFAR_CNN\n",
    "from trainers import Trainer\n",
    "from attacks import GM\n",
    "\n",
    "os.environ[\"CUDA_VISIBLE_DEVICES\"]=\"2\"\n",
    "\n",
    "datadir = './CIFAR10_data/'\n",
    "batches = [datadir + batch for batch in os.listdir(datadir)]\n",
    "\n",
    "for i in tqdm(range(5)):\n",
    "    batch = unpickle(batches[i])\n",
    "\n",
    "    if i == 0:\n",
    "        data = batch[b'data'].astype(np.float32)\n",
    "        cifar = np.transpose(np.reshape(data, [-1,3,32,32]), [0,2,3,1])\n",
    "        labels = batch[b'labels']\n",
    "    else:\n",
    "        data = batch[b'data'].astype(np.float32)\n",
    "        cifar = np.concatenate((cifar, np.transpose(np.reshape(data, [-1,3,32,32]), [0,2,3,1])), axis=0)\n",
    "        labels = np.concatenate((labels, batch[b'labels']), axis=0)\n",
    "\n",
    "scaled_cifar = cifar / 127.5 - 1.0\n",
    "\n",
    "test_batch = unpickle(batches[5])\n",
    "cifar_test = np.transpose(np.reshape(test_batch[b'data'], [-1,3,32,32]), [0,2,3,1])\n",
    "scaled_cifar_test = cifar_test / 127.5 - 1.0\n",
    "labels_test = np.array(test_batch[b'labels'])\n",
    "\n",
    "data_train = (scaled_cifar, labels)\n",
    "data_test = (scaled_cifar_test, labels_test)\n",
    "\n",
    "cifar_mean = np.mean(cifar, axis=(0,1,2))"
   ]
  },
  {
   "cell_type": "markdown",
   "metadata": {},
   "source": [
    "## Accuracy"
   ]
  },
  {
   "cell_type": "code",
   "execution_count": null,
   "metadata": {},
   "outputs": [],
   "source": [
    "def eval_accuracy(logdir):\n",
    "    \n",
    "    tf.reset_default_graph()\n",
    "    \n",
    "    sess = tf.InteractiveSession()\n",
    "    \n",
    "    DNN = CIFAR_CNN(logdir, tf.nn.relu)\n",
    "    DNN.load(sess)\n",
    "    \n",
    "    gm = GM(DNN, eps=0.4, step_size=2, n_steps=40, norm='2', loss_type='xent')\n",
    "    \n",
    "    train_acc = DNN.evaluate(sess, data_train)\n",
    "    test_acc = DNN.evaluate(sess, data_test)\n",
    "    adv_acc = DNN.evaluate(sess, (gm.attack(sess, data_test, batch_size=500), data_test[1]))\n",
    "    \n",
    "    sess.close()\n",
    "    \n",
    "    res = collections.OrderedDict([('Train', train_acc), ('Test', test_acc), ('Adv', adv_acc)])\n",
    "    \n",
    "    savefile = logdir.replace('tf_logs', 'results/accuracy')[:-1] + '.pickle'\n",
    "    savedir = '/'.join(savefile.split('/')[:-1])\n",
    "    \n",
    "    if not os.path.exists(savedir):\n",
    "        \n",
    "        os.makedirs(savedir)\n",
    "    \n",
    "    save(res, savefile)"
   ]
  },
  {
   "cell_type": "markdown",
   "metadata": {},
   "source": [
    "## ROAR KAR"
   ]
  },
  {
   "cell_type": "code",
   "execution_count": 3,
   "metadata": {},
   "outputs": [],
   "source": [
    "def nonzero_min(x):\n",
    "    \n",
    "    return np.min(np.abs(x[x != 0]))\n",
    "\n",
    "def Canny(images):\n",
    "    \n",
    "    res = []\n",
    "    \n",
    "    for img in images:\n",
    "        \n",
    "        img_bw = cv2.cvtColor(img, cv2.COLOR_BGR2GRAY).astype(np.uint8)\n",
    "        edges = cv2.Canny(img_bw, 100, 200).reshape(1, 32, 32) + np.random.normal(loc=0.0, scale=0.1, size=[1, 32, 32])\n",
    "        res.append(edges)\n",
    "    \n",
    "    return np.concatenate(res, axis=0)\n",
    "\n",
    "\n",
    "def random_remove(images, percentile, keep=False):\n",
    "    \n",
    "    images = np.copy(images)\n",
    "    \n",
    "    mask = np.random.binomial(1, (100 - percentile) / 100, size=images.shape[:-1])\n",
    "    \n",
    "    if keep:\n",
    "        images[mask == 1] = cifar_mean\n",
    "    else:\n",
    "        images[mask == 0] = cifar_mean\n",
    "    \n",
    "    return images\n",
    "\n",
    "\n",
    "def remove(images, attributions, percentile, keep=False, random=False):\n",
    "    '''\n",
    "    images       : tensor of shape [N,H,W,C]\n",
    "    attributions : tensor of shape [N,H,W]\n",
    "    percentile   : scalar between 0 and 100, inclusive\n",
    "    keep         : if true keep q percent; otherwise remove q percent\n",
    "    '''\n",
    "    \n",
    "    images = np.copy(images)\n",
    "    \n",
    "    thresholds = np.percentile(attributions, 100 - percentile, axis=(1,2), keepdims=True)\n",
    "    \n",
    "    if keep:\n",
    "        images[attributions < thresholds] = cifar_mean\n",
    "    else:\n",
    "        images[attributions > thresholds] = cifar_mean\n",
    "    \n",
    "    return images\n",
    "\n",
    "\n",
    "def occlude_dataset(DNN, de, attribution, loss, percentiles, test=False, keep=False, random=False, batch_size=1000, savedir='./'):\n",
    "    \n",
    "    if test:\n",
    "        Xs = cifar_test\n",
    "        ys = labels_test\n",
    "    else:\n",
    "        Xs = cifar\n",
    "        ys = labels\n",
    "    \n",
    "    total_batch = math.ceil(len(Xs) / batch_size)\n",
    "    \n",
    "    if not random:\n",
    "    \n",
    "        hmaps = []\n",
    "\n",
    "        for i in tqdm(range(total_batch)):\n",
    "\n",
    "            batch_xs = Xs[i*batch_size:(i+1)*batch_size]\n",
    "            batch_xs_scaled = scale(batch_xs)\n",
    "\n",
    "            if 'edge' in attribution:\n",
    "                attrs = Canny(batch_xs)\n",
    "            else:\n",
    "                attrs = preprocess(de.explain(attribution, loss, DNN.X, batch_xs_scaled), 0, 100, use_abs=True)\n",
    "            \n",
    "            # Add small random noise so np.percentile works correctly\n",
    "            attrs += np.random.uniform(low=0.0, high=1e-8, size=attrs.shape)\n",
    "            \n",
    "            hmaps.append(attrs)\n",
    "        \n",
    "        hmaps = np.concatenate(hmaps, axis=0)\n",
    "    \n",
    "    for percentile in tqdm(percentiles):\n",
    "        \n",
    "        dataset = []\n",
    "        \n",
    "        for i in range(total_batch):\n",
    "            \n",
    "            batch_xs, batch_ys = Xs[i*batch_size:(i+1)*batch_size], ys[i*batch_size:(i+1)*batch_size]\n",
    "            \n",
    "            if random:\n",
    "                occluded_images = random_remove(batch_xs, percentile, keep)\n",
    "            else:\n",
    "                batch_attrs = hmaps[i * batch_size:(i + 1) * batch_size]\n",
    "                occluded_images = remove(batch_xs, batch_attrs, percentile, keep)\n",
    "            \n",
    "            dataset.append(scale(occluded_images))\n",
    "        \n",
    "        save(np.concatenate(dataset, axis=0), savedir + '{}_{}_{}.pickle'.format('test' if test else 'train', attribution, percentile))\n",
    "\n",
    "\n",
    "def eval_roar_kar(logdir, keep, loss_type='xent', train_only=False):\n",
    "    \n",
    "    def get_savedir():\n",
    "        \n",
    "        savedir = logdir.replace('tf_logs', 'KAR_' + loss_type.upper() if keep else 'ROAR_' + loss_type.upper())\n",
    "        \n",
    "        if not os.path.exists(savedir):\n",
    "            \n",
    "            os.makedirs(savedir)\n",
    "        \n",
    "        return savedir\n",
    "    \n",
    "    percentiles = [10, 30, 50, 70, 90]\n",
    "    \n",
    "    heavy_methods = ['SmoothGrad', 'IntegGrad', 'DeepLIFT']\n",
    "\n",
    "    attribution_methods = [\n",
    "#                            ('Random'           , 'zero'), \n",
    "#                            ('Saliency'         , 'saliency'), \n",
    "#                            ('Guided BP'        , 'guidedbp'), \n",
    "#                            ('SmoothGrad'       , 'smoothgrad'), \n",
    "                           ('Grad * Input'     , 'grad*input'), \n",
    "#                            ('IntegGrad'        , 'intgrad'), \n",
    "#                            ('DeepLIFT'         , 'deeplift')\n",
    "                          ]\n",
    "\n",
    "    attribution_methods = collections.OrderedDict(attribution_methods)\n",
    "    \n",
    "    if not train_only:\n",
    "    \n",
    "        tf.reset_default_graph()\n",
    "\n",
    "        sess = tf.InteractiveSession()\n",
    "\n",
    "        with DeepExplain(session=sess, graph=sess.graph) as de:\n",
    "\n",
    "            DNN = CIFAR_CNN(logdir, activation=tf.nn.relu)\n",
    "            DNN.load(sess)\n",
    "            \n",
    "            if loss_type == 'xent':\n",
    "                loss = tf.nn.softmax_cross_entropy_with_logits_v2(labels=tf.stop_gradient(tf.one_hot(DNN.yi, depth=DNN.n_classes)), logits=DNN.logits)\n",
    "            elif loss_type == 'cw':\n",
    "                label_mask = tf.stop_gradient(tf.one_hot(DNN.yi, depth=DNN.n_classes, on_value=True, off_value=False))\n",
    "                c_logit = tf.boolean_mask(DNN.logits, label_mask)\n",
    "                w_logit = tf.reduce_max(tf.reshape(tf.boolean_mask(DNN.logits, tf.logical_not(label_mask)), shape=[-1,9]), axis=1)\n",
    "                loss = w_logit - c_logit\n",
    "            else:\n",
    "                raise Exception('Unknown loss type')\n",
    "\n",
    "            for k, v in attribution_methods.items():\n",
    "\n",
    "                if k in heavy_methods:\n",
    "                    batch_size = 2500\n",
    "                else:\n",
    "                    batch_size = 2500\n",
    "                \n",
    "                occlude_dataset(DNN, de, v, loss, percentiles, False, keep, k == 'Random', batch_size, get_savedir())\n",
    "                occlude_dataset(DNN, de, v, loss, percentiles, True,  keep, k == 'Random', batch_size, get_savedir())\n",
    "\n",
    "        sess.close()\n",
    "    \n",
    "    ress = collections.OrderedDict([(k, []) for k in attribution_methods.keys()])\n",
    "    \n",
    "    for _ in range(3):\n",
    "        \n",
    "        for k, v in attribution_methods.items():\n",
    "            \n",
    "            res = []\n",
    "\n",
    "            for p in percentiles:\n",
    "                \n",
    "                occdir = get_savedir() + '{}_{}_{}.pickle'.format('{}', v, p)\n",
    "                data_train = (unpickle(occdir.format('train')), labels)\n",
    "                data_test = (unpickle(occdir.format('test')), labels_test)\n",
    "                \n",
    "                tf.reset_default_graph()\n",
    "                \n",
    "                DNN = CIFAR_CNN('tf_logs/exp3/ROAR_Loss/', activation=tf.nn.relu)\n",
    "                \n",
    "                sess = tf.InteractiveSession()\n",
    "                sess.run(tf.global_variables_initializer())\n",
    "                \n",
    "                trainer = Trainer(sess, DNN, data_train)\n",
    "                trainer.train(20, p_epochs=30)\n",
    "                \n",
    "                acc = DNN.evaluate(sess, data_test)\n",
    "                \n",
    "                print('{}{} | Accuracy : {:.5f}'.format(k, p, acc))\n",
    "                \n",
    "                res.append(acc)\n",
    "                \n",
    "                sess.close()\n",
    "                \n",
    "            ress[k].append(res)\n",
    "    \n",
    "    res_mean = {k: np.mean(v, axis=0) for k, v in ress.items()}\n",
    "    \n",
    "    savefile = logdir.replace('tf_logs', 'results/{}'.format('kar_' + loss_type if keep else 'roar_' + loss_type))[:-1] + '.pickle'\n",
    "    savedir = '/'.join(savefile.split('/')[:-1])\n",
    "    \n",
    "    print('Saving results at ' + savefile)\n",
    "    \n",
    "    if not os.path.exists(savedir):\n",
    "        \n",
    "        os.makedirs(savedir)\n",
    "    \n",
    "    if not os.path.isfile(savefile):\n",
    "    \n",
    "        save(res_mean, savefile)\n",
    "    \n",
    "    else:\n",
    "        \n",
    "        res_prev = unpickle(savefile)\n",
    "        \n",
    "        for k, v in res_mean.items():\n",
    "        \n",
    "            res_prev[k] = v\n",
    "        \n",
    "        save(res_prev, savefile)"
   ]
  },
  {
   "cell_type": "markdown",
   "metadata": {},
   "source": [
    "## Train"
   ]
  },
  {
   "cell_type": "code",
   "execution_count": 4,
   "metadata": {},
   "outputs": [],
   "source": [
    "def params_maker(param_names, param_values):\n",
    "    \n",
    "    product = itertools.product(*param_values)\n",
    "    params = [list(zip(param_names, p)) for p in product]\n",
    "    \n",
    "    return params\n",
    "\n",
    "def logdir_maker(attack_params):\n",
    "    \n",
    "    return 'tf_logs/exp3/adv/GM/{}/'.format('_'.join([str(v) for k, v in attack_params]))\n",
    "\n",
    "def run(attack_params=None, train_first=True, run_sensitivity=True, run_roar_kar=True, loss_type='xent', keep=False, rk_train_only=False):\n",
    "    \n",
    "    if attack_params:\n",
    "        logdir = logdir_maker(attack_params)\n",
    "    else:\n",
    "        logdir = 'tf_logs/exp3/standard/'\n",
    "    \n",
    "    print(logdir)\n",
    "    \n",
    "    if train_first:\n",
    "    \n",
    "        tf.reset_default_graph()\n",
    "\n",
    "        DNN = CIFAR_CNN(logdir, activation=tf.nn.relu, attack=GM, attack_params=dict(attack_params))\n",
    "\n",
    "        sess = tf.InteractiveSession()\n",
    "        sess.run(tf.global_variables_initializer())\n",
    "\n",
    "        trainer = Trainer(sess, DNN, data_train)\n",
    "        trainer.train(n_epochs=20, p_epochs=5)\n",
    "        \n",
    "        sess.close()\n",
    "        \n",
    "        eval_accuracy(logdir)\n",
    "    \n",
    "    if run_roar_kar: eval_roar_kar(logdir, keep, loss_type, rk_train_only)"
   ]
  },
  {
   "cell_type": "code",
   "execution_count": 5,
   "metadata": {
    "collapsed": true
   },
   "outputs": [
    {
     "name": "stdout",
     "output_type": "stream",
     "text": [
      "tf_logs/exp4/standard/\n",
      "INFO:tensorflow:Restoring parameters from tf_logs/exp4/standard/model\n"
     ]
    },
    {
     "name": "stderr",
     "output_type": "stream",
     "text": [
      "100%|██████████| 20/20 [00:09<00:00,  2.20it/s]\n",
      "100%|██████████| 5/5 [01:42<00:00, 20.56s/it]\n",
      "100%|██████████| 4/4 [00:02<00:00,  1.70it/s]\n",
      "100%|██████████| 5/5 [01:03<00:00, 12.73s/it]\n"
     ]
    },
    {
     "name": "stdout",
     "output_type": "stream",
     "text": [
      "Grad * Input10 | Accuracy : 0.66500\n",
      "Grad * Input30 | Accuracy : 0.59860\n",
      "Grad * Input50 | Accuracy : 0.56720\n",
      "Grad * Input70 | Accuracy : 0.52940\n",
      "Grad * Input90 | Accuracy : 0.43270\n",
      "Grad * Input10 | Accuracy : 0.64340\n",
      "Grad * Input30 | Accuracy : 0.59950\n",
      "Grad * Input50 | Accuracy : 0.56640\n",
      "Grad * Input70 | Accuracy : 0.51390\n",
      "Grad * Input90 | Accuracy : 0.42670\n",
      "Grad * Input10 | Accuracy : 0.65900\n",
      "Grad * Input30 | Accuracy : 0.59360\n",
      "Grad * Input50 | Accuracy : 0.55960\n",
      "Grad * Input70 | Accuracy : 0.51410\n",
      "Grad * Input90 | Accuracy : 0.42940\n",
      "Saving results at results/roar_xent/exp4/standard.pickle\n",
      "tf_logs/exp4/standard/\n",
      "INFO:tensorflow:Restoring parameters from tf_logs/exp4/standard/model\n"
     ]
    },
    {
     "name": "stderr",
     "output_type": "stream",
     "text": [
      "100%|██████████| 20/20 [00:07<00:00,  2.51it/s]\n",
      "100%|██████████| 5/5 [01:55<00:00, 23.03s/it]\n",
      "100%|██████████| 4/4 [00:04<00:00,  1.02s/it]\n",
      "100%|██████████| 5/5 [00:34<00:00,  6.82s/it]\n"
     ]
    },
    {
     "name": "stdout",
     "output_type": "stream",
     "text": [
      "Grad * Input10 | Accuracy : 0.46640\n",
      "Grad * Input30 | Accuracy : 0.56230\n",
      "Grad * Input50 | Accuracy : 0.61770\n",
      "Grad * Input70 | Accuracy : 0.65830\n",
      "Grad * Input90 | Accuracy : 0.70310\n",
      "Grad * Input10 | Accuracy : 0.46860\n",
      "Grad * Input30 | Accuracy : 0.56220\n",
      "Grad * Input50 | Accuracy : 0.63180\n",
      "Grad * Input70 | Accuracy : 0.65420\n",
      "Grad * Input90 | Accuracy : 0.69890\n",
      "Grad * Input10 | Accuracy : 0.47550\n",
      "Grad * Input30 | Accuracy : 0.57770\n",
      "Grad * Input50 | Accuracy : 0.60810\n",
      "Grad * Input70 | Accuracy : 0.65790\n",
      "Grad * Input90 | Accuracy : 0.69680\n",
      "Saving results at results/kar_xent/exp4/standard.pickle\n"
     ]
    }
   ],
   "source": [
    "run(train_first=False, run_roar_kar=True, loss_type='xent', keep=False)\n",
    "run(train_first=False, run_roar_kar=True, loss_type='xent', keep=True)"
   ]
  },
  {
   "cell_type": "code",
   "execution_count": 6,
   "metadata": {
    "collapsed": true
   },
   "outputs": [
    {
     "name": "stdout",
     "output_type": "stream",
     "text": [
      "tf_logs/exp4/adv/GM/0.08_2_40_2_xent/\n",
      "INFO:tensorflow:Restoring parameters from tf_logs/exp4/adv/GM/0.08_2_40_2_xent/model\n"
     ]
    },
    {
     "name": "stderr",
     "output_type": "stream",
     "text": [
      "100%|██████████| 20/20 [00:11<00:00,  1.69it/s]\n",
      "100%|██████████| 5/5 [01:50<00:00, 22.10s/it]\n",
      "100%|██████████| 4/4 [00:02<00:00,  1.92it/s]\n",
      "100%|██████████| 5/5 [00:28<00:00,  5.71s/it]\n"
     ]
    },
    {
     "name": "stdout",
     "output_type": "stream",
     "text": [
      "Grad * Input10 | Accuracy : 0.64940\n",
      "Grad * Input30 | Accuracy : 0.59950\n",
      "Grad * Input50 | Accuracy : 0.55780\n",
      "Grad * Input70 | Accuracy : 0.52110\n",
      "Grad * Input90 | Accuracy : 0.44060\n",
      "Grad * Input10 | Accuracy : 0.65850\n",
      "Grad * Input30 | Accuracy : 0.60660\n",
      "Grad * Input50 | Accuracy : 0.56970\n",
      "Grad * Input70 | Accuracy : 0.52350\n",
      "Grad * Input90 | Accuracy : 0.43430\n",
      "Grad * Input10 | Accuracy : 0.64840\n",
      "Grad * Input30 | Accuracy : 0.60440\n",
      "Grad * Input50 | Accuracy : 0.55700\n",
      "Grad * Input70 | Accuracy : 0.51310\n",
      "Grad * Input90 | Accuracy : 0.44030\n",
      "Saving results at results/roar_xent/exp4/adv/GM/0.08_2_40_2_xent.pickle\n",
      "tf_logs/exp4/adv/GM/0.16_2_40_2_xent/\n",
      "INFO:tensorflow:Restoring parameters from tf_logs/exp4/adv/GM/0.16_2_40_2_xent/model\n"
     ]
    },
    {
     "name": "stderr",
     "output_type": "stream",
     "text": [
      "100%|██████████| 20/20 [00:07<00:00,  2.67it/s]\n",
      "100%|██████████| 5/5 [01:22<00:00, 16.55s/it]\n",
      "100%|██████████| 4/4 [00:01<00:00,  2.03it/s]\n",
      "100%|██████████| 5/5 [00:19<00:00,  3.84s/it]\n"
     ]
    },
    {
     "name": "stdout",
     "output_type": "stream",
     "text": [
      "Grad * Input10 | Accuracy : 0.65360\n",
      "Grad * Input30 | Accuracy : 0.58770\n",
      "Grad * Input50 | Accuracy : 0.55370\n",
      "Grad * Input70 | Accuracy : 0.50850\n",
      "Grad * Input90 | Accuracy : 0.42250\n",
      "Grad * Input10 | Accuracy : 0.65180\n",
      "Grad * Input30 | Accuracy : 0.59590\n",
      "Grad * Input50 | Accuracy : 0.54910\n",
      "Grad * Input70 | Accuracy : 0.51210\n",
      "Grad * Input90 | Accuracy : 0.42680\n",
      "Grad * Input10 | Accuracy : 0.64970\n",
      "Grad * Input30 | Accuracy : 0.59460\n",
      "Grad * Input50 | Accuracy : 0.55120\n",
      "Grad * Input70 | Accuracy : 0.50610\n",
      "Grad * Input90 | Accuracy : 0.42570\n",
      "Saving results at results/roar_xent/exp4/adv/GM/0.16_2_40_2_xent.pickle\n",
      "tf_logs/exp4/adv/GM/0.24_2_40_2_xent/\n",
      "INFO:tensorflow:Restoring parameters from tf_logs/exp4/adv/GM/0.24_2_40_2_xent/model\n"
     ]
    },
    {
     "name": "stderr",
     "output_type": "stream",
     "text": [
      "100%|██████████| 20/20 [00:10<00:00,  1.93it/s]\n",
      "100%|██████████| 5/5 [01:34<00:00, 18.95s/it]\n",
      "100%|██████████| 4/4 [00:01<00:00,  2.11it/s]\n",
      "100%|██████████| 5/5 [00:21<00:00,  4.31s/it]\n"
     ]
    },
    {
     "name": "stdout",
     "output_type": "stream",
     "text": [
      "Grad * Input10 | Accuracy : 0.65080\n",
      "Grad * Input30 | Accuracy : 0.60230\n",
      "Grad * Input50 | Accuracy : 0.53980\n",
      "Grad * Input70 | Accuracy : 0.49810\n",
      "Grad * Input90 | Accuracy : 0.42820\n",
      "Grad * Input10 | Accuracy : 0.64880\n",
      "Grad * Input30 | Accuracy : 0.58570\n",
      "Grad * Input50 | Accuracy : 0.53860\n",
      "Grad * Input70 | Accuracy : 0.50810\n",
      "Grad * Input90 | Accuracy : 0.42030\n",
      "Grad * Input10 | Accuracy : 0.63880\n",
      "Grad * Input30 | Accuracy : 0.59500\n",
      "Grad * Input50 | Accuracy : 0.55110\n",
      "Grad * Input70 | Accuracy : 0.51110\n",
      "Grad * Input90 | Accuracy : 0.42430\n",
      "Saving results at results/roar_xent/exp4/adv/GM/0.24_2_40_2_xent.pickle\n",
      "tf_logs/exp4/adv/GM/0.32_2_40_2_xent/\n",
      "INFO:tensorflow:Restoring parameters from tf_logs/exp4/adv/GM/0.32_2_40_2_xent/model\n"
     ]
    },
    {
     "name": "stderr",
     "output_type": "stream",
     "text": [
      "100%|██████████| 20/20 [00:11<00:00,  1.75it/s]\n",
      "100%|██████████| 5/5 [01:42<00:00, 20.42s/it]\n",
      "100%|██████████| 4/4 [00:02<00:00,  1.90it/s]\n",
      "100%|██████████| 5/5 [00:30<00:00,  6.15s/it]\n"
     ]
    },
    {
     "name": "stdout",
     "output_type": "stream",
     "text": [
      "Grad * Input10 | Accuracy : 0.64370\n",
      "Grad * Input30 | Accuracy : 0.59850\n",
      "Grad * Input50 | Accuracy : 0.54840\n",
      "Grad * Input70 | Accuracy : 0.48900\n",
      "Grad * Input90 | Accuracy : 0.42580\n",
      "Grad * Input10 | Accuracy : 0.65290\n",
      "Grad * Input30 | Accuracy : 0.59560\n",
      "Grad * Input50 | Accuracy : 0.54750\n",
      "Grad * Input70 | Accuracy : 0.49490\n",
      "Grad * Input90 | Accuracy : 0.41230\n",
      "Grad * Input10 | Accuracy : 0.64940\n",
      "Grad * Input30 | Accuracy : 0.58820\n",
      "Grad * Input50 | Accuracy : 0.54640\n",
      "Grad * Input70 | Accuracy : 0.51050\n",
      "Grad * Input90 | Accuracy : 0.42880\n",
      "Saving results at results/roar_xent/exp4/adv/GM/0.32_2_40_2_xent.pickle\n",
      "tf_logs/exp4/adv/GM/0.4_2_40_2_xent/\n",
      "INFO:tensorflow:Restoring parameters from tf_logs/exp4/adv/GM/0.4_2_40_2_xent/model\n"
     ]
    },
    {
     "name": "stderr",
     "output_type": "stream",
     "text": [
      "100%|██████████| 20/20 [00:10<00:00,  1.85it/s]\n",
      "100%|██████████| 5/5 [01:29<00:00, 17.86s/it]\n",
      "100%|██████████| 4/4 [00:01<00:00,  2.00it/s]\n",
      "100%|██████████| 5/5 [00:27<00:00,  5.52s/it]\n"
     ]
    },
    {
     "name": "stdout",
     "output_type": "stream",
     "text": [
      "Grad * Input10 | Accuracy : 0.64290\n",
      "Grad * Input30 | Accuracy : 0.58180\n",
      "Grad * Input50 | Accuracy : 0.55810\n",
      "Grad * Input70 | Accuracy : 0.50560\n",
      "Grad * Input90 | Accuracy : 0.43020\n",
      "Grad * Input10 | Accuracy : 0.63870\n",
      "Grad * Input30 | Accuracy : 0.59380\n",
      "Grad * Input50 | Accuracy : 0.55850\n",
      "Grad * Input70 | Accuracy : 0.50160\n",
      "Grad * Input90 | Accuracy : 0.42050\n",
      "Grad * Input10 | Accuracy : 0.64530\n",
      "Grad * Input30 | Accuracy : 0.58390\n",
      "Grad * Input50 | Accuracy : 0.53370\n",
      "Grad * Input70 | Accuracy : 0.50520\n",
      "Grad * Input90 | Accuracy : 0.41890\n",
      "Saving results at results/roar_xent/exp4/adv/GM/0.4_2_40_2_xent.pickle\n",
      "tf_logs/exp4/adv/GM/0.48_2_40_2_xent/\n",
      "INFO:tensorflow:Restoring parameters from tf_logs/exp4/adv/GM/0.48_2_40_2_xent/model\n"
     ]
    },
    {
     "name": "stderr",
     "output_type": "stream",
     "text": [
      "100%|██████████| 20/20 [00:10<00:00,  1.82it/s]\n",
      "100%|██████████| 5/5 [01:55<00:00, 23.05s/it]\n",
      "100%|██████████| 4/4 [00:01<00:00,  2.29it/s]\n",
      "100%|██████████| 5/5 [00:27<00:00,  5.40s/it]\n"
     ]
    },
    {
     "name": "stdout",
     "output_type": "stream",
     "text": [
      "Grad * Input10 | Accuracy : 0.63460\n",
      "Grad * Input30 | Accuracy : 0.57580\n",
      "Grad * Input50 | Accuracy : 0.54320\n",
      "Grad * Input70 | Accuracy : 0.49050\n",
      "Grad * Input90 | Accuracy : 0.41720\n",
      "Grad * Input10 | Accuracy : 0.64950\n",
      "Grad * Input30 | Accuracy : 0.57230\n",
      "Grad * Input50 | Accuracy : 0.53100\n",
      "Grad * Input70 | Accuracy : 0.49410\n",
      "Grad * Input90 | Accuracy : 0.41910\n",
      "Grad * Input10 | Accuracy : 0.64570\n",
      "Grad * Input30 | Accuracy : 0.58210\n",
      "Grad * Input50 | Accuracy : 0.54510\n",
      "Grad * Input70 | Accuracy : 0.48950\n",
      "Grad * Input90 | Accuracy : 0.42390\n",
      "Saving results at results/roar_xent/exp4/adv/GM/0.48_2_40_2_xent.pickle\n",
      "tf_logs/exp4/adv/GM/0.56_2_40_2_xent/\n",
      "INFO:tensorflow:Restoring parameters from tf_logs/exp4/adv/GM/0.56_2_40_2_xent/model\n"
     ]
    },
    {
     "name": "stderr",
     "output_type": "stream",
     "text": [
      "100%|██████████| 20/20 [00:12<00:00,  1.64it/s]\n",
      "100%|██████████| 5/5 [01:29<00:00, 17.84s/it]\n",
      "100%|██████████| 4/4 [00:02<00:00,  1.96it/s]\n",
      "100%|██████████| 5/5 [00:27<00:00,  5.55s/it]\n"
     ]
    },
    {
     "name": "stdout",
     "output_type": "stream",
     "text": [
      "Grad * Input10 | Accuracy : 0.64520\n",
      "Grad * Input30 | Accuracy : 0.58070\n",
      "Grad * Input50 | Accuracy : 0.54530\n",
      "Grad * Input70 | Accuracy : 0.48660\n",
      "Grad * Input90 | Accuracy : 0.40790\n",
      "Grad * Input10 | Accuracy : 0.64330\n",
      "Grad * Input30 | Accuracy : 0.58080\n",
      "Grad * Input50 | Accuracy : 0.53200\n",
      "Grad * Input70 | Accuracy : 0.48850\n",
      "Grad * Input90 | Accuracy : 0.40740\n",
      "Grad * Input10 | Accuracy : 0.64380\n",
      "Grad * Input30 | Accuracy : 0.56820\n",
      "Grad * Input50 | Accuracy : 0.53920\n",
      "Grad * Input70 | Accuracy : 0.49140\n",
      "Grad * Input90 | Accuracy : 0.39760\n",
      "Saving results at results/roar_xent/exp4/adv/GM/0.56_2_40_2_xent.pickle\n",
      "tf_logs/exp4/adv/GM/0.64_2_40_2_xent/\n",
      "INFO:tensorflow:Restoring parameters from tf_logs/exp4/adv/GM/0.64_2_40_2_xent/model\n"
     ]
    },
    {
     "name": "stderr",
     "output_type": "stream",
     "text": [
      "100%|██████████| 20/20 [00:09<00:00,  2.16it/s]\n",
      "100%|██████████| 5/5 [01:31<00:00, 18.26s/it]\n",
      "100%|██████████| 4/4 [00:02<00:00,  1.98it/s]\n",
      "100%|██████████| 5/5 [00:28<00:00,  5.64s/it]\n"
     ]
    },
    {
     "name": "stdout",
     "output_type": "stream",
     "text": [
      "Grad * Input10 | Accuracy : 0.64970\n",
      "Grad * Input30 | Accuracy : 0.58760\n",
      "Grad * Input50 | Accuracy : 0.53790\n",
      "Grad * Input70 | Accuracy : 0.48560\n",
      "Grad * Input90 | Accuracy : 0.41060\n",
      "Grad * Input10 | Accuracy : 0.65250\n",
      "Grad * Input30 | Accuracy : 0.57240\n",
      "Grad * Input50 | Accuracy : 0.53410\n",
      "Grad * Input70 | Accuracy : 0.50230\n",
      "Grad * Input90 | Accuracy : 0.41100\n",
      "Grad * Input10 | Accuracy : 0.64680\n",
      "Grad * Input30 | Accuracy : 0.58080\n",
      "Grad * Input50 | Accuracy : 0.54110\n",
      "Grad * Input70 | Accuracy : 0.49520\n",
      "Grad * Input90 | Accuracy : 0.40320\n",
      "Saving results at results/roar_xent/exp4/adv/GM/0.64_2_40_2_xent.pickle\n",
      "tf_logs/exp4/adv/GM/0.72_2_40_2_xent/\n",
      "INFO:tensorflow:Restoring parameters from tf_logs/exp4/adv/GM/0.72_2_40_2_xent/model\n"
     ]
    },
    {
     "name": "stderr",
     "output_type": "stream",
     "text": [
      "100%|██████████| 20/20 [00:09<00:00,  2.03it/s]\n",
      "100%|██████████| 5/5 [01:22<00:00, 16.58s/it]\n",
      "100%|██████████| 4/4 [00:01<00:00,  2.34it/s]\n",
      "100%|██████████| 5/5 [00:49<00:00,  9.82s/it]\n"
     ]
    },
    {
     "name": "stdout",
     "output_type": "stream",
     "text": [
      "Grad * Input10 | Accuracy : 0.63350\n",
      "Grad * Input30 | Accuracy : 0.56300\n",
      "Grad * Input50 | Accuracy : 0.52430\n",
      "Grad * Input70 | Accuracy : 0.48190\n",
      "Grad * Input90 | Accuracy : 0.41020\n",
      "Grad * Input10 | Accuracy : 0.64800\n",
      "Grad * Input30 | Accuracy : 0.56750\n",
      "Grad * Input50 | Accuracy : 0.52110\n",
      "Grad * Input70 | Accuracy : 0.49220\n",
      "Grad * Input90 | Accuracy : 0.41210\n",
      "Grad * Input10 | Accuracy : 0.64510\n",
      "Grad * Input30 | Accuracy : 0.56050\n",
      "Grad * Input50 | Accuracy : 0.51830\n",
      "Grad * Input70 | Accuracy : 0.48800\n",
      "Grad * Input90 | Accuracy : 0.40160\n",
      "Saving results at results/roar_xent/exp4/adv/GM/0.72_2_40_2_xent.pickle\n",
      "tf_logs/exp4/adv/GM/0.8_2_40_2_xent/\n",
      "INFO:tensorflow:Restoring parameters from tf_logs/exp4/adv/GM/0.8_2_40_2_xent/model\n"
     ]
    },
    {
     "name": "stderr",
     "output_type": "stream",
     "text": [
      "100%|██████████| 20/20 [00:11<00:00,  1.80it/s]\n",
      "100%|██████████| 5/5 [01:20<00:00, 16.01s/it]\n",
      "100%|██████████| 4/4 [00:02<00:00,  1.93it/s]\n",
      "100%|██████████| 5/5 [00:40<00:00,  8.14s/it]\n"
     ]
    },
    {
     "name": "stdout",
     "output_type": "stream",
     "text": [
      "Grad * Input10 | Accuracy : 0.65600\n",
      "Grad * Input30 | Accuracy : 0.57660\n",
      "Grad * Input50 | Accuracy : 0.52330\n",
      "Grad * Input70 | Accuracy : 0.47500\n",
      "Grad * Input90 | Accuracy : 0.39810\n",
      "Grad * Input10 | Accuracy : 0.64570\n",
      "Grad * Input30 | Accuracy : 0.57940\n",
      "Grad * Input50 | Accuracy : 0.52620\n",
      "Grad * Input70 | Accuracy : 0.47370\n",
      "Grad * Input90 | Accuracy : 0.39000\n",
      "Grad * Input10 | Accuracy : 0.63980\n",
      "Grad * Input30 | Accuracy : 0.58110\n",
      "Grad * Input50 | Accuracy : 0.52200\n",
      "Grad * Input70 | Accuracy : 0.48200\n",
      "Grad * Input90 | Accuracy : 0.38890\n",
      "Saving results at results/roar_xent/exp4/adv/GM/0.8_2_40_2_xent.pickle\n",
      "tf_logs/exp4/adv/GM/0.88_2_40_2_xent/\n",
      "INFO:tensorflow:Restoring parameters from tf_logs/exp4/adv/GM/0.88_2_40_2_xent/model\n"
     ]
    },
    {
     "name": "stderr",
     "output_type": "stream",
     "text": [
      "100%|██████████| 20/20 [00:08<00:00,  2.29it/s]\n",
      "100%|██████████| 5/5 [01:22<00:00, 16.59s/it]\n",
      "100%|██████████| 4/4 [00:01<00:00,  2.18it/s]\n",
      "100%|██████████| 5/5 [00:43<00:00,  8.61s/it]\n"
     ]
    },
    {
     "name": "stdout",
     "output_type": "stream",
     "text": [
      "Grad * Input10 | Accuracy : 0.63440\n",
      "Grad * Input30 | Accuracy : 0.57570\n",
      "Grad * Input50 | Accuracy : 0.52120\n",
      "Grad * Input70 | Accuracy : 0.47550\n",
      "Grad * Input90 | Accuracy : 0.40020\n",
      "Grad * Input10 | Accuracy : 0.63960\n",
      "Grad * Input30 | Accuracy : 0.57140\n",
      "Grad * Input50 | Accuracy : 0.52830\n",
      "Grad * Input70 | Accuracy : 0.46630\n",
      "Grad * Input90 | Accuracy : 0.38900\n",
      "Grad * Input10 | Accuracy : 0.64900\n",
      "Grad * Input30 | Accuracy : 0.56270\n",
      "Grad * Input50 | Accuracy : 0.52790\n",
      "Grad * Input70 | Accuracy : 0.46590\n",
      "Grad * Input90 | Accuracy : 0.40570\n",
      "Saving results at results/roar_xent/exp4/adv/GM/0.88_2_40_2_xent.pickle\n",
      "tf_logs/exp4/adv/GM/0.96_2_40_2_xent/\n",
      "INFO:tensorflow:Restoring parameters from tf_logs/exp4/adv/GM/0.96_2_40_2_xent/model\n"
     ]
    },
    {
     "name": "stderr",
     "output_type": "stream",
     "text": [
      "100%|██████████| 20/20 [00:08<00:00,  2.49it/s]\n",
      "100%|██████████| 5/5 [01:24<00:00, 16.83s/it]\n",
      "100%|██████████| 4/4 [00:01<00:00,  2.32it/s]\n",
      "100%|██████████| 5/5 [00:30<00:00,  6.05s/it]\n"
     ]
    },
    {
     "name": "stdout",
     "output_type": "stream",
     "text": [
      "Grad * Input10 | Accuracy : 0.64720\n",
      "Grad * Input30 | Accuracy : 0.57700\n",
      "Grad * Input50 | Accuracy : 0.53180\n",
      "Grad * Input70 | Accuracy : 0.47750\n",
      "Grad * Input90 | Accuracy : 0.38850\n",
      "Grad * Input10 | Accuracy : 0.65130\n",
      "Grad * Input30 | Accuracy : 0.55980\n",
      "Grad * Input50 | Accuracy : 0.53280\n",
      "Grad * Input70 | Accuracy : 0.47700\n",
      "Grad * Input90 | Accuracy : 0.38420\n",
      "Grad * Input10 | Accuracy : 0.64150\n",
      "Grad * Input30 | Accuracy : 0.57080\n",
      "Grad * Input50 | Accuracy : 0.53780\n",
      "Grad * Input70 | Accuracy : 0.48230\n",
      "Grad * Input90 | Accuracy : 0.40020\n",
      "Saving results at results/roar_xent/exp4/adv/GM/0.96_2_40_2_xent.pickle\n",
      "tf_logs/exp4/adv/GM/1.04_2_40_2_xent/\n",
      "INFO:tensorflow:Restoring parameters from tf_logs/exp4/adv/GM/1.04_2_40_2_xent/model\n"
     ]
    },
    {
     "name": "stderr",
     "output_type": "stream",
     "text": [
      "100%|██████████| 20/20 [00:09<00:00,  2.19it/s]\n",
      "100%|██████████| 5/5 [01:34<00:00, 18.88s/it]\n",
      "100%|██████████| 4/4 [00:01<00:00,  2.15it/s]\n",
      "100%|██████████| 5/5 [00:44<00:00,  8.95s/it]\n"
     ]
    },
    {
     "name": "stdout",
     "output_type": "stream",
     "text": [
      "Grad * Input10 | Accuracy : 0.64430\n",
      "Grad * Input30 | Accuracy : 0.56860\n",
      "Grad * Input50 | Accuracy : 0.52700\n",
      "Grad * Input70 | Accuracy : 0.48220\n",
      "Grad * Input90 | Accuracy : 0.40690\n",
      "Grad * Input10 | Accuracy : 0.64630\n",
      "Grad * Input30 | Accuracy : 0.56670\n",
      "Grad * Input50 | Accuracy : 0.51710\n",
      "Grad * Input70 | Accuracy : 0.47070\n",
      "Grad * Input90 | Accuracy : 0.40810\n",
      "Grad * Input10 | Accuracy : 0.64110\n",
      "Grad * Input30 | Accuracy : 0.57930\n",
      "Grad * Input50 | Accuracy : 0.51140\n",
      "Grad * Input70 | Accuracy : 0.47250\n",
      "Grad * Input90 | Accuracy : 0.39790\n",
      "Saving results at results/roar_xent/exp4/adv/GM/1.04_2_40_2_xent.pickle\n",
      "tf_logs/exp4/adv/GM/1.12_2_40_2_xent/\n",
      "INFO:tensorflow:Restoring parameters from tf_logs/exp4/adv/GM/1.12_2_40_2_xent/model\n"
     ]
    },
    {
     "name": "stderr",
     "output_type": "stream",
     "text": [
      "100%|██████████| 20/20 [00:10<00:00,  1.88it/s]\n",
      "100%|██████████| 5/5 [01:54<00:00, 22.81s/it]\n",
      "100%|██████████| 4/4 [00:01<00:00,  2.12it/s]\n",
      "100%|██████████| 5/5 [00:51<00:00, 10.39s/it]\n"
     ]
    },
    {
     "name": "stdout",
     "output_type": "stream",
     "text": [
      "Grad * Input10 | Accuracy : 0.64400\n",
      "Grad * Input30 | Accuracy : 0.56810\n",
      "Grad * Input50 | Accuracy : 0.51000\n",
      "Grad * Input70 | Accuracy : 0.47530\n",
      "Grad * Input90 | Accuracy : 0.38520\n",
      "Grad * Input10 | Accuracy : 0.64520\n",
      "Grad * Input30 | Accuracy : 0.56430\n",
      "Grad * Input50 | Accuracy : 0.51330\n",
      "Grad * Input70 | Accuracy : 0.45390\n",
      "Grad * Input90 | Accuracy : 0.37980\n",
      "Grad * Input10 | Accuracy : 0.65020\n",
      "Grad * Input30 | Accuracy : 0.56200\n",
      "Grad * Input50 | Accuracy : 0.52650\n",
      "Grad * Input70 | Accuracy : 0.46450\n",
      "Grad * Input90 | Accuracy : 0.38790\n",
      "Saving results at results/roar_xent/exp4/adv/GM/1.12_2_40_2_xent.pickle\n",
      "tf_logs/exp4/adv/GM/1.2_2_40_2_xent/\n",
      "INFO:tensorflow:Restoring parameters from tf_logs/exp4/adv/GM/1.2_2_40_2_xent/model\n"
     ]
    },
    {
     "name": "stderr",
     "output_type": "stream",
     "text": [
      "100%|██████████| 20/20 [00:08<00:00,  2.34it/s]\n",
      "100%|██████████| 5/5 [02:29<00:00, 29.89s/it]\n",
      "100%|██████████| 4/4 [00:01<00:00,  2.27it/s]\n",
      "100%|██████████| 5/5 [00:46<00:00,  9.39s/it]\n"
     ]
    },
    {
     "name": "stdout",
     "output_type": "stream",
     "text": [
      "Grad * Input10 | Accuracy : 0.64670\n",
      "Grad * Input30 | Accuracy : 0.56610\n",
      "Grad * Input50 | Accuracy : 0.51830\n",
      "Grad * Input70 | Accuracy : 0.46920\n",
      "Grad * Input90 | Accuracy : 0.38340\n",
      "Grad * Input10 | Accuracy : 0.63230\n",
      "Grad * Input30 | Accuracy : 0.56220\n",
      "Grad * Input50 | Accuracy : 0.51320\n",
      "Grad * Input70 | Accuracy : 0.46350\n",
      "Grad * Input90 | Accuracy : 0.39090\n",
      "Grad * Input10 | Accuracy : 0.64930\n",
      "Grad * Input30 | Accuracy : 0.56470\n",
      "Grad * Input50 | Accuracy : 0.50680\n",
      "Grad * Input70 | Accuracy : 0.45490\n",
      "Grad * Input90 | Accuracy : 0.38460\n",
      "Saving results at results/roar_xent/exp4/adv/GM/1.2_2_40_2_xent.pickle\n",
      "tf_logs/exp4/adv/GM/1.28_2_40_2_xent/\n",
      "INFO:tensorflow:Restoring parameters from tf_logs/exp4/adv/GM/1.28_2_40_2_xent/model\n"
     ]
    },
    {
     "name": "stderr",
     "output_type": "stream",
     "text": [
      "100%|██████████| 20/20 [00:07<00:00,  2.65it/s]\n",
      "100%|██████████| 5/5 [02:04<00:00, 24.85s/it]\n",
      "100%|██████████| 4/4 [00:01<00:00,  2.20it/s]\n",
      "100%|██████████| 5/5 [00:43<00:00,  8.69s/it]\n"
     ]
    },
    {
     "name": "stdout",
     "output_type": "stream",
     "text": [
      "Grad * Input10 | Accuracy : 0.64420\n",
      "Grad * Input30 | Accuracy : 0.55940\n",
      "Grad * Input50 | Accuracy : 0.52280\n",
      "Grad * Input70 | Accuracy : 0.45760\n",
      "Grad * Input90 | Accuracy : 0.39230\n",
      "Grad * Input10 | Accuracy : 0.65170\n",
      "Grad * Input30 | Accuracy : 0.56600\n",
      "Grad * Input50 | Accuracy : 0.50920\n",
      "Grad * Input70 | Accuracy : 0.45650\n",
      "Grad * Input90 | Accuracy : 0.38940\n",
      "Grad * Input10 | Accuracy : 0.65510\n",
      "Grad * Input30 | Accuracy : 0.55770\n",
      "Grad * Input50 | Accuracy : 0.51750\n",
      "Grad * Input70 | Accuracy : 0.46140\n",
      "Grad * Input90 | Accuracy : 0.38510\n",
      "Saving results at results/roar_xent/exp4/adv/GM/1.28_2_40_2_xent.pickle\n",
      "tf_logs/exp4/adv/GM/1.36_2_40_2_xent/\n",
      "INFO:tensorflow:Restoring parameters from tf_logs/exp4/adv/GM/1.36_2_40_2_xent/model\n"
     ]
    },
    {
     "name": "stderr",
     "output_type": "stream",
     "text": [
      "100%|██████████| 20/20 [00:07<00:00,  2.52it/s]\n",
      "100%|██████████| 5/5 [02:15<00:00, 27.15s/it]\n",
      "100%|██████████| 4/4 [00:01<00:00,  2.25it/s]\n",
      "100%|██████████| 5/5 [00:40<00:00,  8.14s/it]\n"
     ]
    },
    {
     "name": "stdout",
     "output_type": "stream",
     "text": [
      "Grad * Input10 | Accuracy : 0.63960\n",
      "Grad * Input30 | Accuracy : 0.54430\n",
      "Grad * Input50 | Accuracy : 0.50970\n",
      "Grad * Input70 | Accuracy : 0.46260\n",
      "Grad * Input90 | Accuracy : 0.36310\n",
      "Grad * Input10 | Accuracy : 0.64340\n",
      "Grad * Input30 | Accuracy : 0.56280\n",
      "Grad * Input50 | Accuracy : 0.50460\n",
      "Grad * Input70 | Accuracy : 0.45950\n",
      "Grad * Input90 | Accuracy : 0.37470\n",
      "Grad * Input10 | Accuracy : 0.63270\n",
      "Grad * Input30 | Accuracy : 0.55910\n",
      "Grad * Input50 | Accuracy : 0.49910\n",
      "Grad * Input70 | Accuracy : 0.47390\n",
      "Grad * Input90 | Accuracy : 0.38720\n",
      "Saving results at results/roar_xent/exp4/adv/GM/1.36_2_40_2_xent.pickle\n",
      "tf_logs/exp4/adv/GM/1.44_2_40_2_xent/\n",
      "INFO:tensorflow:Restoring parameters from tf_logs/exp4/adv/GM/1.44_2_40_2_xent/model\n"
     ]
    },
    {
     "name": "stderr",
     "output_type": "stream",
     "text": [
      "100%|██████████| 20/20 [00:08<00:00,  2.33it/s]\n",
      "100%|██████████| 5/5 [02:09<00:00, 25.85s/it]\n",
      "100%|██████████| 4/4 [00:03<00:00,  1.19it/s]\n",
      "100%|██████████| 5/5 [00:38<00:00,  7.76s/it]\n"
     ]
    },
    {
     "name": "stdout",
     "output_type": "stream",
     "text": [
      "Grad * Input10 | Accuracy : 0.65170\n",
      "Grad * Input30 | Accuracy : 0.56350\n",
      "Grad * Input50 | Accuracy : 0.52690\n",
      "Grad * Input70 | Accuracy : 0.47060\n",
      "Grad * Input90 | Accuracy : 0.39110\n",
      "Grad * Input10 | Accuracy : 0.64350\n",
      "Grad * Input30 | Accuracy : 0.57270\n",
      "Grad * Input50 | Accuracy : 0.50840\n",
      "Grad * Input70 | Accuracy : 0.46690\n",
      "Grad * Input90 | Accuracy : 0.39510\n",
      "Grad * Input10 | Accuracy : 0.63860\n",
      "Grad * Input30 | Accuracy : 0.56630\n",
      "Grad * Input50 | Accuracy : 0.52310\n",
      "Grad * Input70 | Accuracy : 0.45780\n",
      "Grad * Input90 | Accuracy : 0.38800\n",
      "Saving results at results/roar_xent/exp4/adv/GM/1.44_2_40_2_xent.pickle\n",
      "tf_logs/exp4/adv/GM/1.52_2_40_2_xent/\n",
      "INFO:tensorflow:Restoring parameters from tf_logs/exp4/adv/GM/1.52_2_40_2_xent/model\n"
     ]
    },
    {
     "name": "stderr",
     "output_type": "stream",
     "text": [
      "100%|██████████| 20/20 [00:08<00:00,  2.47it/s]\n",
      "100%|██████████| 5/5 [01:45<00:00, 21.07s/it]\n",
      "100%|██████████| 4/4 [00:01<00:00,  2.23it/s]\n",
      "100%|██████████| 5/5 [00:49<00:00,  9.94s/it]\n"
     ]
    },
    {
     "name": "stdout",
     "output_type": "stream",
     "text": [
      "Grad * Input10 | Accuracy : 0.65120\n",
      "Grad * Input30 | Accuracy : 0.56480\n",
      "Grad * Input50 | Accuracy : 0.50670\n",
      "Grad * Input70 | Accuracy : 0.45810\n",
      "Grad * Input90 | Accuracy : 0.39720\n",
      "Grad * Input10 | Accuracy : 0.63300\n",
      "Grad * Input30 | Accuracy : 0.57000\n",
      "Grad * Input50 | Accuracy : 0.51450\n",
      "Grad * Input70 | Accuracy : 0.46240\n",
      "Grad * Input90 | Accuracy : 0.39110\n",
      "Grad * Input10 | Accuracy : 0.63840\n",
      "Grad * Input30 | Accuracy : 0.55820\n",
      "Grad * Input50 | Accuracy : 0.51480\n",
      "Grad * Input70 | Accuracy : 0.47080\n",
      "Grad * Input90 | Accuracy : 0.38960\n",
      "Saving results at results/roar_xent/exp4/adv/GM/1.52_2_40_2_xent.pickle\n",
      "tf_logs/exp4/adv/GM/1.6_2_40_2_xent/\n",
      "INFO:tensorflow:Restoring parameters from tf_logs/exp4/adv/GM/1.6_2_40_2_xent/model\n"
     ]
    },
    {
     "name": "stderr",
     "output_type": "stream",
     "text": [
      "100%|██████████| 20/20 [00:07<00:00,  2.54it/s]\n",
      "100%|██████████| 5/5 [02:18<00:00, 27.70s/it]\n",
      "100%|██████████| 4/4 [00:01<00:00,  2.23it/s]\n",
      "100%|██████████| 5/5 [00:48<00:00,  9.72s/it]\n"
     ]
    },
    {
     "name": "stdout",
     "output_type": "stream",
     "text": [
      "Grad * Input10 | Accuracy : 0.63830\n",
      "Grad * Input30 | Accuracy : 0.56720\n",
      "Grad * Input50 | Accuracy : 0.50810\n",
      "Grad * Input70 | Accuracy : 0.46130\n",
      "Grad * Input90 | Accuracy : 0.39170\n",
      "Grad * Input10 | Accuracy : 0.65190\n",
      "Grad * Input30 | Accuracy : 0.56560\n",
      "Grad * Input50 | Accuracy : 0.51270\n",
      "Grad * Input70 | Accuracy : 0.46090\n",
      "Grad * Input90 | Accuracy : 0.40090\n",
      "Grad * Input10 | Accuracy : 0.65500\n",
      "Grad * Input30 | Accuracy : 0.54650\n",
      "Grad * Input50 | Accuracy : 0.52140\n",
      "Grad * Input70 | Accuracy : 0.46540\n",
      "Grad * Input90 | Accuracy : 0.39000\n",
      "Saving results at results/roar_xent/exp4/adv/GM/1.6_2_40_2_xent.pickle\n"
     ]
    }
   ],
   "source": [
    "attack_paramss = params_maker(['eps', 'step_size', 'n_steps', 'norm', 'loss_type'], \\\n",
    "                              [[round(0.08 * i, 2) for i in range(1,21)], [2], [40], ['2'], ['xent']])\n",
    "\n",
    "for attack_params in attack_paramss:\n",
    "    \n",
    "    run(attack_params, train_first=False, run_sensitivity=False, run_roar_kar=True, loss_type='xent', keep=False)"
   ]
  },
  {
   "cell_type": "code",
   "execution_count": 5,
   "metadata": {
    "scrolled": true
   },
   "outputs": [
    {
     "name": "stdout",
     "output_type": "stream",
     "text": [
      "tf_logs/exp4/adv/GM/0.48_2_40_2_cw/\n",
      "INFO:tensorflow:Restoring parameters from tf_logs/exp4/adv/GM/0.48_2_40_2_cw/model\n"
     ]
    },
    {
     "name": "stderr",
     "output_type": "stream",
     "text": [
      "100%|██████████| 20/20 [00:09<00:00,  2.02it/s]\n",
      "100%|██████████| 5/5 [01:08<00:00, 13.73s/it]\n",
      "100%|██████████| 4/4 [00:01<00:00,  2.25it/s]\n",
      "100%|██████████| 5/5 [00:27<00:00,  5.51s/it]\n"
     ]
    },
    {
     "name": "stdout",
     "output_type": "stream",
     "text": [
      "Grad * Input10 | Accuracy : 0.63720\n",
      "Grad * Input30 | Accuracy : 0.57250\n",
      "Grad * Input50 | Accuracy : 0.54010\n",
      "Grad * Input70 | Accuracy : 0.48860\n",
      "Grad * Input90 | Accuracy : 0.42030\n",
      "Grad * Input10 | Accuracy : 0.64450\n",
      "Grad * Input30 | Accuracy : 0.58500\n",
      "Grad * Input50 | Accuracy : 0.54360\n",
      "Grad * Input70 | Accuracy : 0.49440\n",
      "Grad * Input90 | Accuracy : 0.41390\n",
      "Grad * Input10 | Accuracy : 0.64020\n",
      "Grad * Input30 | Accuracy : 0.59390\n",
      "Grad * Input50 | Accuracy : 0.54580\n",
      "Grad * Input70 | Accuracy : 0.48890\n",
      "Grad * Input90 | Accuracy : 0.42660\n",
      "Saving results at results/roar_xent/exp4/adv/GM/0.48_2_40_2_cw.pickle\n",
      "tf_logs/exp4/adv/GM/0.56_2_40_2_cw/\n",
      "INFO:tensorflow:Restoring parameters from tf_logs/exp4/adv/GM/0.56_2_40_2_cw/model\n"
     ]
    },
    {
     "name": "stderr",
     "output_type": "stream",
     "text": [
      "100%|██████████| 20/20 [00:07<00:00,  2.70it/s]\n",
      "100%|██████████| 5/5 [01:43<00:00, 20.70s/it]\n",
      "100%|██████████| 4/4 [00:01<00:00,  2.01it/s]\n",
      "100%|██████████| 5/5 [00:27<00:00,  5.44s/it]\n"
     ]
    },
    {
     "name": "stdout",
     "output_type": "stream",
     "text": [
      "Grad * Input10 | Accuracy : 0.63910\n",
      "Grad * Input30 | Accuracy : 0.58040\n",
      "Grad * Input50 | Accuracy : 0.53860\n",
      "Grad * Input70 | Accuracy : 0.49360\n",
      "Grad * Input90 | Accuracy : 0.40250\n",
      "Grad * Input10 | Accuracy : 0.64520\n",
      "Grad * Input30 | Accuracy : 0.57800\n",
      "Grad * Input50 | Accuracy : 0.53170\n",
      "Grad * Input70 | Accuracy : 0.49790\n",
      "Grad * Input90 | Accuracy : 0.39710\n",
      "Grad * Input10 | Accuracy : 0.64030\n",
      "Grad * Input30 | Accuracy : 0.57430\n",
      "Grad * Input50 | Accuracy : 0.53610\n",
      "Grad * Input70 | Accuracy : 0.48920\n",
      "Grad * Input90 | Accuracy : 0.41110\n",
      "Saving results at results/roar_xent/exp4/adv/GM/0.56_2_40_2_cw.pickle\n",
      "tf_logs/exp4/adv/GM/0.64_2_40_2_cw/\n",
      "INFO:tensorflow:Restoring parameters from tf_logs/exp4/adv/GM/0.64_2_40_2_cw/model\n"
     ]
    },
    {
     "name": "stderr",
     "output_type": "stream",
     "text": [
      "100%|██████████| 20/20 [00:09<00:00,  2.17it/s]\n",
      "100%|██████████| 5/5 [02:07<00:00, 25.54s/it]\n",
      "100%|██████████| 4/4 [00:02<00:00,  1.42it/s]\n",
      "100%|██████████| 5/5 [00:31<00:00,  6.20s/it]\n"
     ]
    },
    {
     "name": "stdout",
     "output_type": "stream",
     "text": [
      "Grad * Input10 | Accuracy : 0.65070\n",
      "Grad * Input30 | Accuracy : 0.57590\n",
      "Grad * Input50 | Accuracy : 0.53210\n",
      "Grad * Input70 | Accuracy : 0.49670\n",
      "Grad * Input90 | Accuracy : 0.40760\n",
      "Grad * Input10 | Accuracy : 0.64050\n",
      "Grad * Input30 | Accuracy : 0.57620\n",
      "Grad * Input50 | Accuracy : 0.53820\n",
      "Grad * Input70 | Accuracy : 0.49170\n",
      "Grad * Input90 | Accuracy : 0.41400\n",
      "Grad * Input10 | Accuracy : 0.64690\n",
      "Grad * Input30 | Accuracy : 0.57260\n",
      "Grad * Input50 | Accuracy : 0.52950\n",
      "Grad * Input70 | Accuracy : 0.48950\n",
      "Grad * Input90 | Accuracy : 0.41150\n",
      "Saving results at results/roar_xent/exp4/adv/GM/0.64_2_40_2_cw.pickle\n",
      "tf_logs/exp4/adv/GM/0.72_2_40_2_cw/\n",
      "INFO:tensorflow:Restoring parameters from tf_logs/exp4/adv/GM/0.72_2_40_2_cw/model\n"
     ]
    },
    {
     "name": "stderr",
     "output_type": "stream",
     "text": [
      "100%|██████████| 20/20 [00:26<00:00,  1.34s/it]\n",
      "100%|██████████| 5/5 [04:41<00:00, 56.25s/it]\n",
      "100%|██████████| 4/4 [00:14<00:00,  3.54s/it]\n",
      "100%|██████████| 5/5 [00:36<00:00,  7.24s/it]\n"
     ]
    },
    {
     "name": "stdout",
     "output_type": "stream",
     "text": [
      "Grad * Input10 | Accuracy : 0.65240\n",
      "Grad * Input30 | Accuracy : 0.57850\n",
      "Grad * Input50 | Accuracy : 0.53120\n",
      "Grad * Input70 | Accuracy : 0.47970\n",
      "Grad * Input90 | Accuracy : 0.39820\n",
      "Grad * Input10 | Accuracy : 0.64700\n",
      "Grad * Input30 | Accuracy : 0.57230\n",
      "Grad * Input50 | Accuracy : 0.53130\n",
      "Grad * Input70 | Accuracy : 0.48020\n",
      "Grad * Input90 | Accuracy : 0.40170\n",
      "Grad * Input10 | Accuracy : 0.64660\n",
      "Grad * Input30 | Accuracy : 0.58150\n",
      "Grad * Input50 | Accuracy : 0.51650\n",
      "Grad * Input70 | Accuracy : 0.47990\n",
      "Grad * Input90 | Accuracy : 0.40020\n",
      "Saving results at results/roar_xent/exp4/adv/GM/0.72_2_40_2_cw.pickle\n",
      "tf_logs/exp4/adv/GM/0.8_2_40_2_cw/\n",
      "INFO:tensorflow:Restoring parameters from tf_logs/exp4/adv/GM/0.8_2_40_2_cw/model\n"
     ]
    },
    {
     "name": "stderr",
     "output_type": "stream",
     "text": [
      "100%|██████████| 20/20 [00:19<00:00,  1.05it/s]\n",
      "100%|██████████| 5/5 [05:48<00:00, 69.78s/it]\n",
      "100%|██████████| 4/4 [00:01<00:00,  2.35it/s]\n",
      "100%|██████████| 5/5 [02:30<00:00, 30.09s/it]\n"
     ]
    },
    {
     "name": "stdout",
     "output_type": "stream",
     "text": [
      "Grad * Input10 | Accuracy : 0.64690\n",
      "Grad * Input30 | Accuracy : 0.57210\n",
      "Grad * Input50 | Accuracy : 0.52740\n",
      "Grad * Input70 | Accuracy : 0.48800\n",
      "Grad * Input90 | Accuracy : 0.39790\n",
      "Grad * Input10 | Accuracy : 0.64780\n",
      "Grad * Input30 | Accuracy : 0.58770\n",
      "Grad * Input50 | Accuracy : 0.52570\n",
      "Grad * Input70 | Accuracy : 0.48520\n",
      "Grad * Input90 | Accuracy : 0.40260\n",
      "Grad * Input10 | Accuracy : 0.63900\n",
      "Grad * Input30 | Accuracy : 0.56800\n",
      "Grad * Input50 | Accuracy : 0.53530\n",
      "Grad * Input70 | Accuracy : 0.47730\n",
      "Grad * Input90 | Accuracy : 0.39010\n",
      "Saving results at results/roar_xent/exp4/adv/GM/0.8_2_40_2_cw.pickle\n",
      "tf_logs/exp4/adv/GM/0.88_2_40_2_cw/\n",
      "INFO:tensorflow:Restoring parameters from tf_logs/exp4/adv/GM/0.88_2_40_2_cw/model\n"
     ]
    },
    {
     "name": "stderr",
     "output_type": "stream",
     "text": [
      "100%|██████████| 20/20 [00:09<00:00,  2.15it/s]\n",
      "100%|██████████| 5/5 [01:22<00:00, 16.47s/it]\n",
      "100%|██████████| 4/4 [00:01<00:00,  2.06it/s]\n",
      "100%|██████████| 5/5 [00:42<00:00,  8.52s/it]\n"
     ]
    },
    {
     "name": "stdout",
     "output_type": "stream",
     "text": [
      "Grad * Input10 | Accuracy : 0.64080\n",
      "Grad * Input30 | Accuracy : 0.56610\n",
      "Grad * Input50 | Accuracy : 0.52450\n",
      "Grad * Input70 | Accuracy : 0.48930\n",
      "Grad * Input90 | Accuracy : 0.40670\n",
      "Grad * Input10 | Accuracy : 0.65440\n",
      "Grad * Input30 | Accuracy : 0.57780\n",
      "Grad * Input50 | Accuracy : 0.53170\n",
      "Grad * Input70 | Accuracy : 0.48620\n",
      "Grad * Input90 | Accuracy : 0.39790\n",
      "Grad * Input10 | Accuracy : 0.64890\n",
      "Grad * Input30 | Accuracy : 0.58310\n",
      "Grad * Input50 | Accuracy : 0.53340\n",
      "Grad * Input70 | Accuracy : 0.46770\n",
      "Grad * Input90 | Accuracy : 0.39730\n",
      "Saving results at results/roar_xent/exp4/adv/GM/0.88_2_40_2_cw.pickle\n",
      "tf_logs/exp4/adv/GM/0.96_2_40_2_cw/\n",
      "INFO:tensorflow:Restoring parameters from tf_logs/exp4/adv/GM/0.96_2_40_2_cw/model\n"
     ]
    },
    {
     "name": "stderr",
     "output_type": "stream",
     "text": [
      "100%|██████████| 20/20 [00:09<00:00,  2.17it/s]\n",
      "100%|██████████| 5/5 [01:39<00:00, 19.92s/it]\n",
      "100%|██████████| 4/4 [00:01<00:00,  2.53it/s]\n",
      "100%|██████████| 5/5 [00:50<00:00, 10.09s/it]\n"
     ]
    },
    {
     "name": "stdout",
     "output_type": "stream",
     "text": [
      "Grad * Input10 | Accuracy : 0.65260\n",
      "Grad * Input30 | Accuracy : 0.56880\n",
      "Grad * Input50 | Accuracy : 0.52470\n",
      "Grad * Input70 | Accuracy : 0.46150\n",
      "Grad * Input90 | Accuracy : 0.39290\n",
      "Grad * Input10 | Accuracy : 0.65230\n",
      "Grad * Input30 | Accuracy : 0.58090\n",
      "Grad * Input50 | Accuracy : 0.53510\n",
      "Grad * Input70 | Accuracy : 0.46800\n",
      "Grad * Input90 | Accuracy : 0.39350\n",
      "Grad * Input10 | Accuracy : 0.64540\n",
      "Grad * Input30 | Accuracy : 0.57260\n",
      "Grad * Input50 | Accuracy : 0.51070\n",
      "Grad * Input70 | Accuracy : 0.47360\n",
      "Grad * Input90 | Accuracy : 0.39850\n",
      "Saving results at results/roar_xent/exp4/adv/GM/0.96_2_40_2_cw.pickle\n",
      "tf_logs/exp4/adv/GM/1.04_2_40_2_cw/\n",
      "INFO:tensorflow:Restoring parameters from tf_logs/exp4/adv/GM/1.04_2_40_2_cw/model\n"
     ]
    },
    {
     "name": "stderr",
     "output_type": "stream",
     "text": [
      "100%|██████████| 20/20 [00:10<00:00,  1.96it/s]\n",
      "100%|██████████| 5/5 [01:26<00:00, 17.35s/it]\n",
      "100%|██████████| 4/4 [00:06<00:00,  1.66s/it]\n",
      "100%|██████████| 5/5 [00:37<00:00,  7.53s/it]\n"
     ]
    },
    {
     "name": "stdout",
     "output_type": "stream",
     "text": [
      "Grad * Input10 | Accuracy : 0.63990\n",
      "Grad * Input30 | Accuracy : 0.57000\n",
      "Grad * Input50 | Accuracy : 0.51760\n",
      "Grad * Input70 | Accuracy : 0.47140\n",
      "Grad * Input90 | Accuracy : 0.37600\n",
      "Grad * Input10 | Accuracy : 0.64070\n",
      "Grad * Input30 | Accuracy : 0.55400\n",
      "Grad * Input50 | Accuracy : 0.52630\n",
      "Grad * Input70 | Accuracy : 0.47390\n",
      "Grad * Input90 | Accuracy : 0.38940\n",
      "Grad * Input10 | Accuracy : 0.64530\n",
      "Grad * Input30 | Accuracy : 0.56340\n",
      "Grad * Input50 | Accuracy : 0.53040\n",
      "Grad * Input70 | Accuracy : 0.47670\n",
      "Grad * Input90 | Accuracy : 0.39890\n",
      "Saving results at results/roar_xent/exp4/adv/GM/1.04_2_40_2_cw.pickle\n",
      "tf_logs/exp4/adv/GM/1.12_2_40_2_cw/\n",
      "INFO:tensorflow:Restoring parameters from tf_logs/exp4/adv/GM/1.12_2_40_2_cw/model\n"
     ]
    },
    {
     "name": "stderr",
     "output_type": "stream",
     "text": [
      "100%|██████████| 20/20 [00:14<00:00,  1.33it/s]\n",
      "100%|██████████| 5/5 [02:18<00:00, 27.78s/it]\n",
      "100%|██████████| 4/4 [00:01<00:00,  2.50it/s]\n",
      "100%|██████████| 5/5 [00:28<00:00,  5.77s/it]\n"
     ]
    },
    {
     "name": "stdout",
     "output_type": "stream",
     "text": [
      "Grad * Input10 | Accuracy : 0.65100\n",
      "Grad * Input30 | Accuracy : 0.56900\n",
      "Grad * Input50 | Accuracy : 0.53300\n",
      "Grad * Input70 | Accuracy : 0.47620\n",
      "Grad * Input90 | Accuracy : 0.38840\n",
      "Grad * Input10 | Accuracy : 0.65400\n",
      "Grad * Input30 | Accuracy : 0.56890\n",
      "Grad * Input50 | Accuracy : 0.51940\n",
      "Grad * Input70 | Accuracy : 0.47130\n",
      "Grad * Input90 | Accuracy : 0.38950\n",
      "Grad * Input10 | Accuracy : 0.63890\n",
      "Grad * Input30 | Accuracy : 0.57100\n",
      "Grad * Input50 | Accuracy : 0.52440\n",
      "Grad * Input70 | Accuracy : 0.47270\n",
      "Grad * Input90 | Accuracy : 0.38180\n",
      "Saving results at results/roar_xent/exp4/adv/GM/1.12_2_40_2_cw.pickle\n",
      "tf_logs/exp4/adv/GM/1.2_2_40_2_cw/\n",
      "INFO:tensorflow:Restoring parameters from tf_logs/exp4/adv/GM/1.2_2_40_2_cw/model\n"
     ]
    },
    {
     "name": "stderr",
     "output_type": "stream",
     "text": [
      "100%|██████████| 20/20 [00:07<00:00,  2.51it/s]\n",
      "100%|██████████| 5/5 [01:34<00:00, 18.80s/it]\n",
      "100%|██████████| 4/4 [00:03<00:00,  1.12it/s]\n",
      "100%|██████████| 5/5 [00:36<00:00,  7.32s/it]\n"
     ]
    },
    {
     "name": "stdout",
     "output_type": "stream",
     "text": [
      "Grad * Input10 | Accuracy : 0.63880\n",
      "Grad * Input30 | Accuracy : 0.56730\n",
      "Grad * Input50 | Accuracy : 0.51580\n",
      "Grad * Input70 | Accuracy : 0.46780\n",
      "Grad * Input90 | Accuracy : 0.39600\n",
      "Grad * Input10 | Accuracy : 0.64360\n",
      "Grad * Input30 | Accuracy : 0.55860\n",
      "Grad * Input50 | Accuracy : 0.52490\n",
      "Grad * Input70 | Accuracy : 0.47180\n",
      "Grad * Input90 | Accuracy : 0.39960\n",
      "Grad * Input10 | Accuracy : 0.64040\n",
      "Grad * Input30 | Accuracy : 0.55740\n",
      "Grad * Input50 | Accuracy : 0.50280\n",
      "Grad * Input70 | Accuracy : 0.47280\n",
      "Grad * Input90 | Accuracy : 0.38900\n",
      "Saving results at results/roar_xent/exp4/adv/GM/1.2_2_40_2_cw.pickle\n",
      "tf_logs/exp4/adv/GM/1.28_2_40_2_cw/\n",
      "INFO:tensorflow:Restoring parameters from tf_logs/exp4/adv/GM/1.28_2_40_2_cw/model\n"
     ]
    },
    {
     "name": "stderr",
     "output_type": "stream",
     "text": [
      "100%|██████████| 20/20 [00:08<00:00,  2.41it/s]\n",
      "100%|██████████| 5/5 [01:16<00:00, 15.28s/it]\n",
      "100%|██████████| 4/4 [00:01<00:00,  2.18it/s]\n",
      "100%|██████████| 5/5 [00:25<00:00,  5.17s/it]\n"
     ]
    },
    {
     "name": "stdout",
     "output_type": "stream",
     "text": [
      "Grad * Input10 | Accuracy : 0.63850\n",
      "Grad * Input30 | Accuracy : 0.56260\n",
      "Grad * Input50 | Accuracy : 0.51560\n",
      "Grad * Input70 | Accuracy : 0.47410\n",
      "Grad * Input90 | Accuracy : 0.38890\n",
      "Grad * Input10 | Accuracy : 0.64420\n",
      "Grad * Input30 | Accuracy : 0.56250\n",
      "Grad * Input50 | Accuracy : 0.53290\n",
      "Grad * Input70 | Accuracy : 0.46990\n",
      "Grad * Input90 | Accuracy : 0.39350\n",
      "Grad * Input10 | Accuracy : 0.64380\n",
      "Grad * Input30 | Accuracy : 0.55860\n",
      "Grad * Input50 | Accuracy : 0.50500\n",
      "Grad * Input70 | Accuracy : 0.46230\n",
      "Grad * Input90 | Accuracy : 0.38500\n",
      "Saving results at results/roar_xent/exp4/adv/GM/1.28_2_40_2_cw.pickle\n",
      "tf_logs/exp4/adv/GM/1.36_2_40_2_cw/\n",
      "INFO:tensorflow:Restoring parameters from tf_logs/exp4/adv/GM/1.36_2_40_2_cw/model\n"
     ]
    },
    {
     "name": "stderr",
     "output_type": "stream",
     "text": [
      "100%|██████████| 20/20 [00:08<00:00,  2.23it/s]\n",
      "100%|██████████| 5/5 [01:46<00:00, 21.34s/it]\n",
      "100%|██████████| 4/4 [00:04<00:00,  1.23s/it]\n",
      "100%|██████████| 5/5 [00:38<00:00,  7.69s/it]\n"
     ]
    },
    {
     "name": "stdout",
     "output_type": "stream",
     "text": [
      "Grad * Input10 | Accuracy : 0.64980\n",
      "Grad * Input30 | Accuracy : 0.55620\n",
      "Grad * Input50 | Accuracy : 0.50450\n",
      "Grad * Input70 | Accuracy : 0.46610\n",
      "Grad * Input90 | Accuracy : 0.39000\n",
      "Grad * Input10 | Accuracy : 0.63940\n",
      "Grad * Input30 | Accuracy : 0.56020\n",
      "Grad * Input50 | Accuracy : 0.50930\n",
      "Grad * Input70 | Accuracy : 0.47280\n",
      "Grad * Input90 | Accuracy : 0.39200\n",
      "Grad * Input10 | Accuracy : 0.63850\n",
      "Grad * Input30 | Accuracy : 0.56750\n",
      "Grad * Input50 | Accuracy : 0.51270\n",
      "Grad * Input70 | Accuracy : 0.47080\n",
      "Grad * Input90 | Accuracy : 0.38630\n",
      "Saving results at results/roar_xent/exp4/adv/GM/1.36_2_40_2_cw.pickle\n",
      "tf_logs/exp4/adv/GM/1.44_2_40_2_cw/\n",
      "INFO:tensorflow:Restoring parameters from tf_logs/exp4/adv/GM/1.44_2_40_2_cw/model\n"
     ]
    },
    {
     "name": "stderr",
     "output_type": "stream",
     "text": [
      "100%|██████████| 20/20 [00:08<00:00,  2.35it/s]\n",
      "100%|██████████| 5/5 [01:24<00:00, 16.99s/it]\n",
      "100%|██████████| 4/4 [00:01<00:00,  2.22it/s]\n",
      "100%|██████████| 5/5 [00:40<00:00,  8.13s/it]\n"
     ]
    },
    {
     "name": "stdout",
     "output_type": "stream",
     "text": [
      "Grad * Input10 | Accuracy : 0.62790\n",
      "Grad * Input30 | Accuracy : 0.55820\n",
      "Grad * Input50 | Accuracy : 0.52090\n",
      "Grad * Input70 | Accuracy : 0.46590\n",
      "Grad * Input90 | Accuracy : 0.38780\n",
      "Grad * Input10 | Accuracy : 0.64840\n",
      "Grad * Input30 | Accuracy : 0.57010\n",
      "Grad * Input50 | Accuracy : 0.51380\n",
      "Grad * Input70 | Accuracy : 0.47230\n",
      "Grad * Input90 | Accuracy : 0.38160\n",
      "Grad * Input10 | Accuracy : 0.64360\n",
      "Grad * Input30 | Accuracy : 0.55960\n",
      "Grad * Input50 | Accuracy : 0.52750\n",
      "Grad * Input70 | Accuracy : 0.47350\n",
      "Grad * Input90 | Accuracy : 0.39030\n",
      "Saving results at results/roar_xent/exp4/adv/GM/1.44_2_40_2_cw.pickle\n",
      "tf_logs/exp4/adv/GM/1.52_2_40_2_cw/\n",
      "INFO:tensorflow:Restoring parameters from tf_logs/exp4/adv/GM/1.52_2_40_2_cw/model\n"
     ]
    },
    {
     "name": "stderr",
     "output_type": "stream",
     "text": [
      "100%|██████████| 20/20 [00:08<00:00,  2.32it/s]\n",
      "100%|██████████| 5/5 [01:19<00:00, 15.96s/it]\n",
      "100%|██████████| 4/4 [00:01<00:00,  2.10it/s]\n",
      "100%|██████████| 5/5 [00:29<00:00,  5.80s/it]\n"
     ]
    },
    {
     "name": "stdout",
     "output_type": "stream",
     "text": [
      "Grad * Input10 | Accuracy : 0.64960\n",
      "Grad * Input30 | Accuracy : 0.56260\n",
      "Grad * Input50 | Accuracy : 0.50130\n",
      "Grad * Input70 | Accuracy : 0.48240\n",
      "Grad * Input90 | Accuracy : 0.37780\n",
      "Grad * Input10 | Accuracy : 0.64220\n",
      "Grad * Input30 | Accuracy : 0.55920\n",
      "Grad * Input50 | Accuracy : 0.51670\n",
      "Grad * Input70 | Accuracy : 0.46450\n",
      "Grad * Input90 | Accuracy : 0.40390\n",
      "Grad * Input10 | Accuracy : 0.63660\n",
      "Grad * Input30 | Accuracy : 0.56930\n",
      "Grad * Input50 | Accuracy : 0.50160\n",
      "Grad * Input70 | Accuracy : 0.46400\n",
      "Grad * Input90 | Accuracy : 0.38210\n",
      "Saving results at results/roar_xent/exp4/adv/GM/1.52_2_40_2_cw.pickle\n",
      "tf_logs/exp4/adv/GM/1.6_2_40_2_cw/\n",
      "INFO:tensorflow:Restoring parameters from tf_logs/exp4/adv/GM/1.6_2_40_2_cw/model\n"
     ]
    },
    {
     "name": "stderr",
     "output_type": "stream",
     "text": [
      "100%|██████████| 20/20 [00:07<00:00,  2.51it/s]\n",
      "100%|██████████| 5/5 [01:21<00:00, 16.38s/it]\n",
      "100%|██████████| 4/4 [00:01<00:00,  2.19it/s]\n",
      "100%|██████████| 5/5 [00:33<00:00,  6.69s/it]\n"
     ]
    },
    {
     "name": "stdout",
     "output_type": "stream",
     "text": [
      "Grad * Input10 | Accuracy : 0.65590\n",
      "Grad * Input30 | Accuracy : 0.57340\n",
      "Grad * Input50 | Accuracy : 0.51670\n",
      "Grad * Input70 | Accuracy : 0.48310\n",
      "Grad * Input90 | Accuracy : 0.38740\n",
      "Grad * Input10 | Accuracy : 0.65810\n",
      "Grad * Input30 | Accuracy : 0.56710\n",
      "Grad * Input50 | Accuracy : 0.52510\n",
      "Grad * Input70 | Accuracy : 0.47120\n",
      "Grad * Input90 | Accuracy : 0.39050\n",
      "Grad * Input10 | Accuracy : 0.64820\n",
      "Grad * Input30 | Accuracy : 0.56490\n",
      "Grad * Input50 | Accuracy : 0.51940\n",
      "Grad * Input70 | Accuracy : 0.46930\n",
      "Grad * Input90 | Accuracy : 0.38420\n",
      "Saving results at results/roar_xent/exp4/adv/GM/1.6_2_40_2_cw.pickle\n"
     ]
    }
   ],
   "source": [
    "attack_paramss = params_maker(['eps', 'step_size', 'n_steps', 'norm', 'loss_type'], \\\n",
    "                              [[round(0.08 * i, 2) for i in range(6,21)], [2], [40], ['2'], ['cw']])\n",
    "\n",
    "for attack_params in attack_paramss:\n",
    "    \n",
    "    run(attack_params, train_first=False, run_sensitivity=False, run_roar_kar=True, loss_type='xent', keep=False)"
   ]
  },
  {
   "cell_type": "code",
   "execution_count": null,
   "metadata": {},
   "outputs": [],
   "source": [
    "attack_paramss = params_maker(['eps', 'step_size', 'n_steps', 'norm', 'loss_type'], \\\n",
    "                              [[round(0.08 * i, 2) for i in range(1,21)], [2], [40], ['2'], ['xent']])\n",
    "\n",
    "for attack_params in attack_paramss:\n",
    "    \n",
    "    run(attack_params, train_first=False, run_sensitivity=False, run_roar_kar=True, loss_type='xent', keep=True)"
   ]
  },
  {
   "cell_type": "code",
   "execution_count": null,
   "metadata": {},
   "outputs": [],
   "source": [
    "attack_paramss = params_maker(['eps', 'step_size', 'n_steps', 'norm', 'loss_type'], \\\n",
    "                              [[round(0.08 * i, 2) for i in range(1,21)], [2], [40], ['2'], ['cw']])\n",
    "\n",
    "for attack_params in attack_paramss:\n",
    "    \n",
    "    run(attack_params, train_first=False, run_sensitivity=False, run_roar_kar=True, loss_type='xent', keep=True)"
   ]
  },
  {
   "cell_type": "code",
   "execution_count": null,
   "metadata": {},
   "outputs": [],
   "source": []
  }
 ],
 "metadata": {
  "kernelspec": {
   "display_name": "Python 3",
   "language": "python",
   "name": "python3"
  },
  "language_info": {
   "codemirror_mode": {
    "name": "ipython",
    "version": 3
   },
   "file_extension": ".py",
   "mimetype": "text/x-python",
   "name": "python",
   "nbconvert_exporter": "python",
   "pygments_lexer": "ipython3",
   "version": "3.5.2"
  }
 },
 "nbformat": 4,
 "nbformat_minor": 2
}
